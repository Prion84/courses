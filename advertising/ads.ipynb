{
 "cells": [
  {
   "cell_type": "code",
   "execution_count": 441,
   "id": "5b1f1505",
   "metadata": {},
   "outputs": [],
   "source": [
    "import pandas as pd\n",
    "import numpy as np\n",
    "import seaborn as sns\n",
    "import plotly.express as px"
   ]
  },
  {
   "cell_type": "code",
   "execution_count": 185,
   "id": "f57b868c",
   "metadata": {},
   "outputs": [],
   "source": [
    "path_to_data = 'ads_data.csv'\n",
    "path_to_clients = 'ads_clients_data.csv'"
   ]
  },
  {
   "cell_type": "code",
   "execution_count": 289,
   "id": "2a6189ff",
   "metadata": {},
   "outputs": [],
   "source": [
    "ads_data = pd.read_csv(path_to_data, sep=',')"
   ]
  },
  {
   "cell_type": "code",
   "execution_count": 384,
   "id": "bef25d67",
   "metadata": {},
   "outputs": [],
   "source": [
    "ads_clients = pd.read_csv(path_to_clients, sep=',')"
   ]
  },
  {
   "cell_type": "code",
   "execution_count": 188,
   "id": "1b9f261b",
   "metadata": {
    "scrolled": true
   },
   "outputs": [
    {
     "data": {
      "text/html": [
       "<div>\n",
       "<style scoped>\n",
       "    .dataframe tbody tr th:only-of-type {\n",
       "        vertical-align: middle;\n",
       "    }\n",
       "\n",
       "    .dataframe tbody tr th {\n",
       "        vertical-align: top;\n",
       "    }\n",
       "\n",
       "    .dataframe thead th {\n",
       "        text-align: right;\n",
       "    }\n",
       "</style>\n",
       "<table border=\"1\" class=\"dataframe\">\n",
       "  <thead>\n",
       "    <tr style=\"text-align: right;\">\n",
       "      <th></th>\n",
       "      <th>date</th>\n",
       "      <th>time</th>\n",
       "      <th>event</th>\n",
       "      <th>platform</th>\n",
       "      <th>ad_id</th>\n",
       "      <th>client_union_id</th>\n",
       "      <th>campaign_union_id</th>\n",
       "      <th>ad_cost_type</th>\n",
       "      <th>ad_cost</th>\n",
       "      <th>has_video</th>\n",
       "      <th>target_audience_count</th>\n",
       "    </tr>\n",
       "  </thead>\n",
       "  <tbody>\n",
       "    <tr>\n",
       "      <th>0</th>\n",
       "      <td>2019-04-01</td>\n",
       "      <td>2019-04-01 00:00:48</td>\n",
       "      <td>view</td>\n",
       "      <td>android</td>\n",
       "      <td>45061</td>\n",
       "      <td>34734</td>\n",
       "      <td>45061</td>\n",
       "      <td>CPM</td>\n",
       "      <td>200.6</td>\n",
       "      <td>0</td>\n",
       "      <td>1955269</td>\n",
       "    </tr>\n",
       "    <tr>\n",
       "      <th>1</th>\n",
       "      <td>2019-04-01</td>\n",
       "      <td>2019-04-01 00:00:48</td>\n",
       "      <td>view</td>\n",
       "      <td>web</td>\n",
       "      <td>121288</td>\n",
       "      <td>121288</td>\n",
       "      <td>121288</td>\n",
       "      <td>CPM</td>\n",
       "      <td>187.4</td>\n",
       "      <td>0</td>\n",
       "      <td>232011</td>\n",
       "    </tr>\n",
       "    <tr>\n",
       "      <th>2</th>\n",
       "      <td>2019-04-01</td>\n",
       "      <td>2019-04-01 00:01:03</td>\n",
       "      <td>view</td>\n",
       "      <td>android</td>\n",
       "      <td>102737</td>\n",
       "      <td>102535</td>\n",
       "      <td>102564</td>\n",
       "      <td>CPC</td>\n",
       "      <td>60.7</td>\n",
       "      <td>0</td>\n",
       "      <td>4410</td>\n",
       "    </tr>\n",
       "    <tr>\n",
       "      <th>3</th>\n",
       "      <td>2019-04-01</td>\n",
       "      <td>2019-04-01 00:01:03</td>\n",
       "      <td>view</td>\n",
       "      <td>android</td>\n",
       "      <td>107564</td>\n",
       "      <td>106914</td>\n",
       "      <td>107564</td>\n",
       "      <td>CPM</td>\n",
       "      <td>217.3</td>\n",
       "      <td>0</td>\n",
       "      <td>62711</td>\n",
       "    </tr>\n",
       "    <tr>\n",
       "      <th>4</th>\n",
       "      <td>2019-04-01</td>\n",
       "      <td>2019-04-01 00:01:09</td>\n",
       "      <td>view</td>\n",
       "      <td>android</td>\n",
       "      <td>4922</td>\n",
       "      <td>37</td>\n",
       "      <td>4400</td>\n",
       "      <td>CPC</td>\n",
       "      <td>60.1</td>\n",
       "      <td>0</td>\n",
       "      <td>1183501</td>\n",
       "    </tr>\n",
       "  </tbody>\n",
       "</table>\n",
       "</div>"
      ],
      "text/plain": [
       "         date                 time event platform   ad_id  client_union_id  \\\n",
       "0  2019-04-01  2019-04-01 00:00:48  view  android   45061            34734   \n",
       "1  2019-04-01  2019-04-01 00:00:48  view      web  121288           121288   \n",
       "2  2019-04-01  2019-04-01 00:01:03  view  android  102737           102535   \n",
       "3  2019-04-01  2019-04-01 00:01:03  view  android  107564           106914   \n",
       "4  2019-04-01  2019-04-01 00:01:09  view  android    4922               37   \n",
       "\n",
       "   campaign_union_id ad_cost_type  ad_cost  has_video  target_audience_count  \n",
       "0              45061          CPM    200.6          0                1955269  \n",
       "1             121288          CPM    187.4          0                 232011  \n",
       "2             102564          CPC     60.7          0                   4410  \n",
       "3             107564          CPM    217.3          0                  62711  \n",
       "4               4400          CPC     60.1          0                1183501  "
      ]
     },
     "execution_count": 188,
     "metadata": {},
     "output_type": "execute_result"
    }
   ],
   "source": [
    "ads_data.head()"
   ]
  },
  {
   "cell_type": "code",
   "execution_count": 190,
   "id": "368d2098",
   "metadata": {
    "scrolled": true
   },
   "outputs": [
    {
     "data": {
      "text/html": [
       "<div>\n",
       "<style scoped>\n",
       "    .dataframe tbody tr th:only-of-type {\n",
       "        vertical-align: middle;\n",
       "    }\n",
       "\n",
       "    .dataframe tbody tr th {\n",
       "        vertical-align: top;\n",
       "    }\n",
       "\n",
       "    .dataframe thead th {\n",
       "        text-align: right;\n",
       "    }\n",
       "</style>\n",
       "<table border=\"1\" class=\"dataframe\">\n",
       "  <thead>\n",
       "    <tr style=\"text-align: right;\">\n",
       "      <th></th>\n",
       "      <th>date</th>\n",
       "      <th>client_union_id</th>\n",
       "      <th>community_id</th>\n",
       "      <th>create_date</th>\n",
       "    </tr>\n",
       "  </thead>\n",
       "  <tbody>\n",
       "    <tr>\n",
       "      <th>0</th>\n",
       "      <td>2020-05-07</td>\n",
       "      <td>1</td>\n",
       "      <td>-130371893</td>\n",
       "      <td>2018-12-24</td>\n",
       "    </tr>\n",
       "    <tr>\n",
       "      <th>1</th>\n",
       "      <td>2020-05-07</td>\n",
       "      <td>2</td>\n",
       "      <td>-130304626</td>\n",
       "      <td>2019-02-10</td>\n",
       "    </tr>\n",
       "    <tr>\n",
       "      <th>2</th>\n",
       "      <td>2020-05-07</td>\n",
       "      <td>3</td>\n",
       "      <td>-130462599</td>\n",
       "      <td>2019-01-25</td>\n",
       "    </tr>\n",
       "    <tr>\n",
       "      <th>3</th>\n",
       "      <td>2020-05-07</td>\n",
       "      <td>4</td>\n",
       "      <td>-130574300</td>\n",
       "      <td>2018-12-09</td>\n",
       "    </tr>\n",
       "    <tr>\n",
       "      <th>4</th>\n",
       "      <td>2020-05-07</td>\n",
       "      <td>5</td>\n",
       "      <td>-130292358</td>\n",
       "      <td>2019-01-08</td>\n",
       "    </tr>\n",
       "  </tbody>\n",
       "</table>\n",
       "</div>"
      ],
      "text/plain": [
       "         date  client_union_id  community_id create_date\n",
       "0  2020-05-07                1    -130371893  2018-12-24\n",
       "1  2020-05-07                2    -130304626  2019-02-10\n",
       "2  2020-05-07                3    -130462599  2019-01-25\n",
       "3  2020-05-07                4    -130574300  2018-12-09\n",
       "4  2020-05-07                5    -130292358  2019-01-08"
      ]
     },
     "execution_count": 190,
     "metadata": {},
     "output_type": "execute_result"
    }
   ],
   "source": [
    "ads_clients.head()"
   ]
  },
  {
   "cell_type": "code",
   "execution_count": 191,
   "id": "863a297d",
   "metadata": {},
   "outputs": [
    {
     "data": {
      "text/plain": [
       "event\n",
       "click    113.0\n",
       "view     923.0\n",
       "dtype: float64"
      ]
     },
     "execution_count": 191,
     "metadata": {},
     "output_type": "execute_result"
    }
   ],
   "source": [
    "# calculate the average number of different advertising events (views and clicks) on ads\n",
    "ads_by_views_and_clicks = ads_data.groupby(['ad_id', 'event'], as_index=False) \\\n",
    "        .agg({'date': 'count', 'date': 'count'}) \\\n",
    "        .rename(columns={'date': 'count'})\n",
    "ads_by_views_and_clicks.pivot(index='ad_id', columns='event', values='count').fillna(0).mean().round(0)"
   ]
  },
  {
   "cell_type": "code",
   "execution_count": 192,
   "id": "868d989c",
   "metadata": {},
   "outputs": [
    {
     "name": "stderr",
     "output_type": "stream",
     "text": [
      "C:\\Users\\avtut\\anaconda3\\lib\\site-packages\\seaborn\\distributions.py:2619: FutureWarning: `distplot` is a deprecated function and will be removed in a future version. Please adapt your code to use either `displot` (a figure-level function with similar flexibility) or `histplot` (an axes-level function for histograms).\n",
      "  warnings.warn(msg, FutureWarning)\n"
     ]
    },
    {
     "data": {
      "text/plain": [
       "<AxesSubplot:xlabel='count', ylabel='Density'>"
      ]
     },
     "execution_count": 192,
     "metadata": {},
     "output_type": "execute_result"
    },
    {
     "data": {
      "image/png": "[encoded data removed]",
      "text/plain": [
       "<Figure size 1440x504 with 1 Axes>"
      ]
     },
     "metadata": {},
     "output_type": "display_data"
    }
   ],
   "source": [
    "# look at the distribution of ad views\n",
    "ads_views = ads_by_views_and_clicks.loc[ads_by_views_and_clicks.event == 'view'][['ad_id', 'count']]\n",
    "ads_views_log = np.log(ads_views['count'])\n",
    "sns.set(\n",
    "    font_scale=2,\n",
    "    style=\"whitegrid\",\n",
    "    rc={'figure.figsize': (20, 7)}\n",
    "        )\n",
    "\n",
    "sns.distplot(ads_views_log)"
   ]
  },
  {
   "cell_type": "code",
   "execution_count": 193,
   "id": "908103b8",
   "metadata": {},
   "outputs": [
    {
     "data": {
      "text/plain": [
       "598.0"
      ]
     },
     "execution_count": 193,
     "metadata": {},
     "output_type": "execute_result"
    }
   ],
   "source": [
    "# find the average number of viewa per 1 ad (ad_id) by day, ignoring ads that had no views\n",
    "# calculate the moving average of the result obtained with a window of 2 elements\n",
    "# what is the value of the moving average for April 6, 2019?\n",
    "ads_data.loc[ads_data.event == 'view'] \\\n",
    "        .groupby(['ad_id','date'], as_index=False) \\\n",
    "        .agg({'ad_id': 'count'}) \\\n",
    "        .groupby('date') \\\n",
    "        .agg({'ad_id':'mean'})['ad_id'].rolling(window=2).mean()['2019-04-06'].round(0)"
   ]
  },
  {
   "cell_type": "code",
   "execution_count": 194,
   "id": "ac01ec95",
   "metadata": {},
   "outputs": [
    {
     "data": {
      "text/plain": [
       "<AxesSubplot:xlabel='date'>"
      ]
     },
     "execution_count": 194,
     "metadata": {},
     "output_type": "execute_result"
    },
    {
     "data": {
      "image/png": "[encoded data removed]",
      "text/plain": [
       "<Figure size 1440x504 with 1 Axes>"
      ]
     },
     "metadata": {},
     "output_type": "display_data"
    }
   ],
   "source": [
    "# plot on one chart the values of the average number of views by day and the moving average\n",
    "views_by_days = ads_data.loc[ads_data.event == 'view'] \\\n",
    "            .pivot_table(index='ad_id', columns='date', values='time', aggfunc='count')\n",
    "views_mean = views_by_days.mean()\n",
    "views_mov_average = views_by_days.mean().rolling(window=2).mean().round(0)\n",
    "sns.lineplot(data=views_mean)\n",
    "sns.lineplot(data=views_mov_average)"
   ]
  },
  {
   "cell_type": "code",
   "execution_count": 414,
   "id": "6cdac169",
   "metadata": {},
   "outputs": [
    {
     "data": {
      "text/plain": [
       "date\n",
       "2019-04-06    320.877273\n",
       "dtype: float64"
      ]
     },
     "execution_count": 414,
     "metadata": {},
     "output_type": "execute_result"
    }
   ],
   "source": [
    "# Calculate on which day there is the greatest difference in modulus between arithmetic averages and moving averages?\n",
    "abs((views_mean - views_mov_average).dropna()).sort_values(ascending=False).head(1)"
   ]
  },
  {
   "cell_type": "code",
   "execution_count": 415,
   "id": "ac0c67ac",
   "metadata": {},
   "outputs": [],
   "source": [
    "# Combine ad data with ad customer data\n",
    "df = ads_clients.merge(ads_data, on=['client_union_id'], how='inner', suffixes=['_client_date', '_ad_date'])"
   ]
  },
  {
   "cell_type": "code",
   "execution_count": 416,
   "id": "aaa35cd4",
   "metadata": {},
   "outputs": [
    {
     "data": {
      "text/plain": [
       "Timedelta('124 days 09:04:43.532219570')"
      ]
     },
     "execution_count": 416,
     "metadata": {},
     "output_type": "execute_result"
    }
   ],
   "source": [
    "# find the average number of days from the date the ad client was created and the first time the ad was run by that client\n",
    "df.date_ad_date  = pd.to_datetime(df.date_ad_date)\n",
    "df.create_date = pd.to_datetime(df.create_date)\n",
    "df['date_difference'] = df.date_ad_date - df.create_date\n",
    "df.groupby('client_union_id').date_difference.min().mean()"
   ]
  },
  {
   "cell_type": "code",
   "execution_count": 419,
   "id": "4d6deae1",
   "metadata": {
    "scrolled": true
   },
   "outputs": [],
   "source": [
    "# number of unique clients\n",
    "unique_clients = len(ads_clients.client_union_id.unique())"
   ]
  },
  {
   "cell_type": "code",
   "execution_count": 424,
   "id": "7bf087df",
   "metadata": {},
   "outputs": [
    {
     "data": {
      "text/plain": [
       "0.69"
      ]
     },
     "execution_count": 424,
     "metadata": {},
     "output_type": "execute_result"
    }
   ],
   "source": [
    "# Clients running ads\n",
    "ran_ads_clients = df.groupby('client_union_id', as_index=False).date_difference.min()\n",
    "# users who ran ads during the year\n",
    "ads_clients_num= len(ran_ads_clients[ran_ads_clients .date_difference <= pd.Timedelta(365, unit='d')])\n",
    "round((ads_clients_num / unique_clients) * 100, 2)"
   ]
  },
  {
   "cell_type": "code",
   "execution_count": 440,
   "id": "54b7e570",
   "metadata": {},
   "outputs": [
    {
     "data": {
      "text/plain": [
       "11"
      ]
     },
     "execution_count": 440,
     "metadata": {},
     "output_type": "execute_result"
    }
   ],
   "source": [
    "# Determine how many unique customers launched their first ad in their first month of existence (0 to 30 days)\n",
    "list_of_intervals = pd.to_timedelta(['0d', '30d', '90d', '180d', '365d'])\n",
    "ran_ads_clients['run_time'] = \\\n",
    "        pd.cut( \\\n",
    "               ran_ads_clients.date_difference,\n",
    "               list_of_intervals,\n",
    "               labels = ['month', 'quarter', 'half-year', 'year'])\n",
    "len(ran_ads_clients[ran_ads_clients.run_time == 'month'])"
   ]
  },
  {
   "cell_type": "code",
   "execution_count": 445,
   "id": "74855812",
   "metadata": {},
   "outputs": [
    {
     "data": {
      "application/vnd.plotly.v1+json": {
       "config": {
        "plotlyServerURL": "https://plot.ly"
       },
       "data": [
        {
         "alignmentgroup": "True",
         "hovertemplate": "run_time=%{x}<br>count=%{y}<extra></extra>",
         "legendgroup": "",
         "marker": {
          "color": "#636efa",
          "pattern": {
           "shape": ""
          }
         },
         "name": "",
         "offsetgroup": "",
         "orientation": "v",
         "showlegend": false,
         "textposition": "auto",
         "type": "bar",
         "x": [
          "half-year",
          "half-year",
          "quarter",
          "half-year",
          "quarter",
          "half-year",
          "half-year",
          "quarter",
          "half-year",
          "half-year",
          "half-year",
          "year",
          "year",
          "year",
          "quarter",
          "half-year",
          "half-year",
          "half-year",
          "quarter",
          "year",
          "quarter",
          "half-year",
          "half-year",
          "half-year",
          "quarter",
          "half-year",
          "half-year",
          "quarter",
          "quarter",
          "quarter",
          "half-year",
          "year",
          "quarter",
          "year",
          "quarter",
          "half-year",
          "half-year",
          "year",
          "quarter",
          "half-year",
          "half-year",
          "quarter",
          "year",
          "year",
          "half-year",
          "quarter",
          "half-year",
          "half-year",
          "half-year",
          "quarter",
          "quarter",
          "year",
          "half-year",
          "quarter",
          "quarter",
          "half-year",
          "half-year",
          "half-year",
          "quarter",
          "half-year",
          "quarter",
          "quarter",
          "half-year",
          "quarter",
          "quarter",
          "half-year",
          "half-year",
          "half-year",
          "quarter",
          "half-year",
          "year",
          "half-year",
          "year",
          "quarter",
          "half-year",
          "quarter",
          "quarter",
          "year",
          "half-year",
          "half-year",
          "half-year",
          "year",
          "quarter",
          "quarter",
          "half-year",
          "half-year",
          "year",
          "quarter",
          "half-year",
          "half-year",
          "half-year",
          "half-year",
          "half-year",
          "half-year",
          "half-year",
          "month",
          "half-year",
          "year",
          "year",
          "half-year",
          "quarter",
          "half-year",
          "quarter",
          "year",
          "half-year",
          "half-year",
          "half-year",
          "half-year",
          "half-year",
          "quarter",
          "quarter",
          "half-year",
          "year",
          "half-year",
          "quarter",
          "half-year",
          "year",
          "quarter",
          "half-year",
          "half-year",
          "quarter",
          "half-year",
          "quarter",
          "half-year",
          "quarter",
          "year",
          "year",
          "quarter",
          "year",
          "half-year",
          "half-year",
          "quarter",
          "year",
          "quarter",
          "half-year",
          "half-year",
          "half-year",
          "half-year",
          "quarter",
          "half-year",
          "year",
          "year",
          "quarter",
          "quarter",
          "half-year",
          "quarter",
          "half-year",
          "half-year",
          "half-year",
          "quarter",
          "quarter",
          "quarter",
          "quarter",
          "year",
          "half-year",
          "quarter",
          "half-year",
          "half-year",
          "half-year",
          "quarter",
          "quarter",
          "quarter",
          "half-year",
          "quarter",
          "month",
          "half-year",
          "half-year",
          "year",
          "quarter",
          "year",
          "quarter",
          "half-year",
          "half-year",
          "quarter",
          "quarter",
          "half-year",
          "half-year",
          "half-year",
          "year",
          "quarter",
          "quarter",
          "half-year",
          "year",
          "year",
          "half-year",
          "half-year",
          "quarter",
          "year",
          "year",
          "quarter",
          "year",
          "half-year",
          "half-year",
          "quarter",
          "year",
          "quarter",
          "month",
          "half-year",
          "half-year",
          "half-year",
          "half-year",
          "quarter",
          "year",
          "quarter",
          "quarter",
          "quarter",
          "quarter",
          "half-year",
          "quarter",
          "quarter",
          "quarter",
          "half-year",
          "half-year",
          "half-year",
          "half-year",
          "half-year",
          "quarter",
          "quarter",
          "half-year",
          "half-year",
          "year",
          "quarter",
          "half-year",
          "half-year",
          "half-year",
          "half-year",
          "half-year",
          "half-year",
          "half-year",
          "half-year",
          "half-year",
          "quarter",
          "year",
          "quarter",
          "half-year",
          "year",
          "year",
          "year",
          "year",
          "half-year",
          "quarter",
          "year",
          "year",
          "half-year",
          "quarter",
          "quarter",
          "half-year",
          "half-year",
          "half-year",
          "half-year",
          "half-year",
          "quarter",
          "quarter",
          "quarter",
          "year",
          "quarter",
          "half-year",
          "half-year",
          "half-year",
          "half-year",
          "half-year",
          "quarter",
          "half-year",
          "half-year",
          "half-year",
          "quarter",
          "quarter",
          "year",
          "half-year",
          "year",
          "quarter",
          "quarter",
          "year",
          "half-year",
          "quarter",
          "half-year",
          "quarter",
          "half-year",
          "half-year",
          "half-year",
          "half-year",
          "quarter",
          "half-year",
          "quarter",
          "half-year",
          "quarter",
          "half-year",
          "year",
          "half-year",
          "year",
          "quarter",
          "half-year",
          "half-year",
          "year",
          "half-year",
          "half-year",
          "half-year",
          "half-year",
          "half-year",
          "quarter",
          "year",
          "half-year",
          "half-year",
          "half-year",
          "half-year",
          "quarter",
          "year",
          "year",
          "year",
          "year",
          "year",
          "half-year",
          "quarter",
          "half-year",
          "half-year",
          "half-year",
          "quarter",
          "year",
          "quarter",
          "year",
          "half-year",
          "half-year",
          "quarter",
          "year",
          "half-year",
          "half-year",
          "quarter",
          "quarter",
          "half-year",
          "quarter",
          "half-year",
          "half-year",
          "half-year",
          "year",
          "quarter",
          "quarter",
          "half-year",
          "year",
          "year",
          "year",
          "year",
          "quarter",
          "year",
          "quarter",
          "half-year",
          "quarter",
          "half-year",
          "half-year",
          "half-year",
          "half-year",
          "year",
          "quarter",
          "quarter",
          "month",
          "half-year",
          "half-year",
          "half-year",
          "half-year",
          "half-year",
          "half-year",
          "year",
          "half-year",
          "year",
          "quarter",
          "half-year",
          "year",
          "quarter",
          "quarter",
          "quarter",
          "year",
          "half-year",
          "half-year",
          "half-year",
          "quarter",
          "year",
          "half-year",
          "half-year",
          "quarter",
          "year",
          "half-year",
          "quarter",
          "year",
          "year",
          "half-year",
          "year",
          "half-year",
          "half-year",
          "half-year",
          "half-year",
          "year",
          "year",
          "half-year",
          "quarter",
          "quarter",
          "quarter",
          "quarter",
          "year",
          "quarter",
          "year",
          "year",
          "month",
          "quarter",
          "year",
          "quarter",
          "half-year",
          "year",
          "year",
          "quarter",
          "half-year",
          "year",
          "year",
          "half-year",
          "half-year",
          "year",
          "half-year",
          "half-year",
          "year",
          "quarter",
          "year",
          "quarter",
          "year",
          "quarter",
          "half-year",
          "quarter",
          "half-year",
          "quarter",
          "year",
          "half-year",
          "quarter",
          "year",
          "half-year",
          "half-year",
          "half-year",
          "year",
          "half-year",
          "quarter",
          "quarter",
          "half-year",
          "quarter",
          "quarter",
          "half-year",
          "half-year",
          "quarter",
          "year",
          "quarter",
          "quarter",
          "quarter",
          "year",
          "half-year",
          "year",
          "year",
          "quarter",
          "quarter",
          "half-year",
          "year",
          "quarter",
          "year",
          "half-year",
          "year",
          "year",
          "quarter",
          "half-year",
          "half-year",
          "quarter",
          "half-year",
          "year",
          "quarter",
          "quarter",
          "quarter",
          "year",
          "half-year",
          "quarter",
          "year",
          "quarter",
          "half-year",
          "quarter",
          "quarter",
          "quarter",
          "year",
          "quarter",
          "year",
          "half-year",
          "half-year",
          "half-year",
          "half-year",
          "half-year",
          "year",
          "year",
          "half-year",
          "quarter",
          "half-year",
          "half-year",
          "quarter",
          "half-year",
          "half-year",
          "half-year",
          "half-year",
          "half-year",
          "half-year",
          "half-year",
          "year",
          "half-year",
          "half-year",
          "quarter",
          "quarter",
          "quarter",
          "half-year",
          "quarter",
          "year",
          "half-year",
          "quarter",
          "quarter",
          "year",
          "quarter",
          "half-year",
          "half-year",
          "half-year",
          "quarter",
          "year",
          "quarter",
          "month",
          "half-year",
          "half-year",
          "quarter",
          "year",
          "year",
          "half-year",
          "year",
          "quarter",
          "quarter",
          "quarter",
          "half-year",
          "year",
          "half-year",
          "half-year",
          "quarter",
          "half-year",
          "half-year",
          "quarter",
          "half-year",
          "year",
          "year",
          "year",
          "half-year",
          "year",
          "year",
          "half-year",
          "half-year",
          "quarter",
          "half-year",
          "quarter",
          "quarter",
          "half-year",
          "quarter",
          "half-year",
          "half-year",
          "year",
          "quarter",
          "quarter",
          "half-year",
          "half-year",
          "year",
          "half-year",
          "half-year",
          "quarter",
          "quarter",
          "year",
          "half-year",
          "half-year",
          "half-year",
          "half-year",
          "half-year",
          "half-year",
          "quarter",
          "year",
          "half-year",
          "half-year",
          "half-year",
          "quarter",
          "quarter",
          "half-year",
          "quarter",
          "half-year",
          "year",
          "half-year",
          "half-year",
          "year",
          "quarter",
          "quarter",
          "half-year",
          "half-year",
          "quarter",
          "half-year",
          "quarter",
          "quarter",
          "half-year",
          "quarter",
          "half-year",
          "half-year",
          "year",
          "year",
          "quarter",
          "half-year",
          "month",
          "year",
          "year",
          "half-year",
          "half-year",
          "quarter",
          "year",
          "half-year",
          "quarter",
          "half-year",
          "quarter",
          "half-year",
          "half-year",
          "year",
          "half-year",
          "quarter",
          "half-year",
          "quarter",
          "quarter",
          "quarter",
          "quarter",
          "quarter",
          "quarter",
          "quarter",
          "half-year",
          "half-year",
          "half-year",
          "half-year",
          "quarter",
          "quarter",
          "half-year",
          "half-year",
          "year",
          "half-year",
          "year",
          "half-year",
          "quarter",
          "half-year",
          "half-year",
          "half-year",
          "half-year",
          "half-year",
          "half-year",
          "quarter",
          "year",
          "half-year",
          "year",
          "year",
          "half-year",
          "year",
          "quarter",
          "half-year",
          "half-year",
          "half-year",
          "half-year",
          "quarter",
          "quarter",
          "half-year",
          "quarter",
          "half-year",
          "half-year",
          "half-year",
          "month",
          "half-year",
          "half-year",
          "half-year",
          "half-year",
          "half-year",
          "quarter",
          "year",
          "quarter",
          "quarter",
          "quarter",
          "half-year",
          "month",
          "half-year",
          "half-year",
          "quarter",
          "half-year",
          "quarter",
          "half-year",
          "quarter",
          "half-year",
          "quarter",
          "year",
          "quarter",
          "half-year",
          "quarter",
          "half-year",
          "quarter",
          "year",
          "half-year",
          "half-year",
          "quarter",
          "quarter",
          "quarter",
          "quarter",
          "half-year",
          "half-year",
          "half-year",
          "half-year",
          "quarter",
          "half-year",
          "year",
          "quarter",
          "quarter",
          "year",
          "half-year",
          "half-year",
          "year",
          "year",
          "half-year",
          "half-year",
          "half-year",
          "year",
          "quarter",
          "quarter",
          "half-year",
          "quarter",
          "quarter",
          "half-year",
          "year",
          "year",
          "half-year",
          "month",
          "half-year",
          "year",
          "year",
          "year",
          "year",
          "half-year",
          "year",
          "quarter",
          "half-year",
          "quarter",
          "year",
          "half-year",
          "half-year",
          "half-year",
          "quarter",
          "half-year",
          "quarter",
          "month",
          "year",
          "half-year",
          "half-year",
          "year",
          "half-year",
          "half-year",
          "quarter",
          "half-year",
          "year",
          "quarter",
          "half-year",
          "half-year",
          "quarter",
          "half-year",
          "quarter",
          "quarter",
          "year",
          "quarter",
          "year",
          "half-year",
          "quarter",
          "half-year",
          "half-year",
          "half-year",
          "quarter",
          "quarter",
          "half-year",
          "quarter",
          "year",
          "quarter",
          "half-year",
          "half-year",
          "half-year",
          "quarter",
          "quarter",
          "half-year",
          "half-year",
          "half-year",
          "half-year",
          "half-year",
          "half-year",
          "half-year",
          "half-year",
          "quarter",
          "quarter",
          "half-year",
          "half-year",
          "half-year",
          "half-year",
          "quarter",
          "half-year",
          "quarter",
          "quarter",
          "half-year",
          "year",
          "half-year",
          "year",
          "half-year",
          "half-year",
          "half-year",
          "half-year",
          "half-year",
          "half-year",
          "year",
          "half-year",
          "quarter",
          "half-year",
          "quarter",
          "half-year",
          "quarter",
          "half-year",
          "half-year",
          "quarter",
          "half-year",
          "half-year",
          "half-year",
          "half-year",
          "half-year",
          "half-year",
          "half-year",
          "half-year",
          "half-year",
          "year",
          "year",
          "year",
          "quarter",
          "quarter",
          "quarter",
          "half-year",
          "half-year",
          "half-year",
          "quarter"
         ],
         "xaxis": "x",
         "y": [
          1,
          1,
          1,
          1,
          1,
          1,
          1,
          1,
          1,
          1,
          1,
          1,
          1,
          1,
          1,
          1,
          1,
          1,
          1,
          1,
          1,
          1,
          1,
          1,
          1,
          1,
          1,
          1,
          1,
          1,
          1,
          1,
          1,
          1,
          1,
          1,
          1,
          1,
          1,
          1,
          1,
          1,
          1,
          1,
          1,
          1,
          1,
          1,
          1,
          1,
          1,
          1,
          1,
          1,
          1,
          1,
          1,
          1,
          1,
          1,
          1,
          1,
          1,
          1,
          1,
          1,
          1,
          1,
          1,
          1,
          1,
          1,
          1,
          1,
          1,
          1,
          1,
          1,
          1,
          1,
          1,
          1,
          1,
          1,
          1,
          1,
          1,
          1,
          1,
          1,
          1,
          1,
          1,
          1,
          1,
          1,
          1,
          1,
          1,
          1,
          1,
          1,
          1,
          1,
          1,
          1,
          1,
          1,
          1,
          1,
          1,
          1,
          1,
          1,
          1,
          1,
          1,
          1,
          1,
          1,
          1,
          1,
          1,
          1,
          1,
          1,
          1,
          1,
          1,
          1,
          1,
          1,
          1,
          1,
          1,
          1,
          1,
          1,
          1,
          1,
          1,
          1,
          1,
          1,
          1,
          1,
          1,
          1,
          1,
          1,
          1,
          1,
          1,
          1,
          1,
          1,
          1,
          1,
          1,
          1,
          1,
          1,
          1,
          1,
          1,
          1,
          1,
          1,
          1,
          1,
          1,
          1,
          1,
          1,
          1,
          1,
          1,
          1,
          1,
          1,
          1,
          1,
          1,
          1,
          1,
          1,
          1,
          1,
          1,
          1,
          1,
          1,
          1,
          1,
          1,
          1,
          1,
          1,
          1,
          1,
          1,
          1,
          1,
          1,
          1,
          1,
          1,
          1,
          1,
          1,
          1,
          1,
          1,
          1,
          1,
          1,
          1,
          1,
          1,
          1,
          1,
          1,
          1,
          1,
          1,
          1,
          1,
          1,
          1,
          1,
          1,
          1,
          1,
          1,
          1,
          1,
          1,
          1,
          1,
          1,
          1,
          1,
          1,
          1,
          1,
          1,
          1,
          1,
          1,
          1,
          1,
          1,
          1,
          1,
          1,
          1,
          1,
          1,
          1,
          1,
          1,
          1,
          1,
          1,
          1,
          1,
          1,
          1,
          1,
          1,
          1,
          1,
          1,
          1,
          1,
          1,
          1,
          1,
          1,
          1,
          1,
          1,
          1,
          1,
          1,
          1,
          1,
          1,
          1,
          1,
          1,
          1,
          1,
          1,
          1,
          1,
          1,
          1,
          1,
          1,
          1,
          1,
          1,
          1,
          1,
          1,
          1,
          1,
          1,
          1,
          1,
          1,
          1,
          1,
          1,
          1,
          1,
          1,
          1,
          1,
          1,
          1,
          1,
          1,
          1,
          1,
          1,
          1,
          1,
          1,
          1,
          1,
          1,
          1,
          1,
          1,
          1,
          1,
          1,
          1,
          1,
          1,
          1,
          1,
          1,
          1,
          1,
          1,
          1,
          1,
          1,
          1,
          1,
          1,
          1,
          1,
          1,
          1,
          1,
          1,
          1,
          1,
          1,
          1,
          1,
          1,
          1,
          1,
          1,
          1,
          1,
          1,
          1,
          1,
          1,
          1,
          1,
          1,
          1,
          1,
          1,
          1,
          1,
          1,
          1,
          1,
          1,
          1,
          1,
          1,
          1,
          1,
          1,
          1,
          1,
          1,
          1,
          1,
          1,
          1,
          1,
          1,
          1,
          1,
          1,
          1,
          1,
          1,
          1,
          1,
          1,
          1,
          1,
          1,
          1,
          1,
          1,
          1,
          1,
          1,
          1,
          1,
          1,
          1,
          1,
          1,
          1,
          1,
          1,
          1,
          1,
          1,
          1,
          1,
          1,
          1,
          1,
          1,
          1,
          1,
          1,
          1,
          1,
          1,
          1,
          1,
          1,
          1,
          1,
          1,
          1,
          1,
          1,
          1,
          1,
          1,
          1,
          1,
          1,
          1,
          1,
          1,
          1,
          1,
          1,
          1,
          1,
          1,
          1,
          1,
          1,
          1,
          1,
          1,
          1,
          1,
          1,
          1,
          1,
          1,
          1,
          1,
          1,
          1,
          1,
          1,
          1,
          1,
          1,
          1,
          1,
          1,
          1,
          1,
          1,
          1,
          1,
          1,
          1,
          1,
          1,
          1,
          1,
          1,
          1,
          1,
          1,
          1,
          1,
          1,
          1,
          1,
          1,
          1,
          1,
          1,
          1,
          1,
          1,
          1,
          1,
          1,
          1,
          1,
          1,
          1,
          1,
          1,
          1,
          1,
          1,
          1,
          1,
          1,
          1,
          1,
          1,
          1,
          1,
          1,
          1,
          1,
          1,
          1,
          1,
          1,
          1,
          1,
          1,
          1,
          1,
          1,
          1,
          1,
          1,
          1,
          1,
          1,
          1,
          1,
          1,
          1,
          1,
          1,
          1,
          1,
          1,
          1,
          1,
          1,
          1,
          1,
          1,
          1,
          1,
          1,
          1,
          1,
          1,
          1,
          1,
          1,
          1,
          1,
          1,
          1,
          1,
          1,
          1,
          1,
          1,
          1,
          1,
          1,
          1,
          1,
          1,
          1,
          1,
          1,
          1,
          1,
          1,
          1,
          1,
          1,
          1,
          1,
          1,
          1,
          1,
          1,
          1,
          1,
          1,
          1,
          1,
          1,
          1,
          1,
          1,
          1,
          1,
          1,
          1,
          1,
          1,
          1,
          1,
          1,
          1,
          1,
          1,
          1,
          1,
          1,
          1,
          1,
          1,
          1,
          1,
          1,
          1,
          1,
          1,
          1,
          1,
          1,
          1,
          1,
          1,
          1,
          1,
          1,
          1,
          1,
          1,
          1,
          1,
          1,
          1,
          1,
          1,
          1,
          1,
          1,
          1,
          1,
          1,
          1,
          1,
          1,
          1,
          1,
          1,
          1,
          1,
          1,
          1,
          1,
          1,
          1,
          1,
          1,
          1,
          1,
          1,
          1,
          1,
          1,
          1,
          1,
          1,
          1,
          1,
          1,
          1,
          1,
          1,
          1,
          1,
          1,
          1,
          1,
          1,
          1,
          1,
          1,
          1,
          1,
          1,
          1,
          1,
          1,
          1,
          1,
          1,
          1,
          1,
          1,
          1,
          1,
          1,
          1,
          1,
          1,
          1,
          1,
          1,
          1,
          1,
          1,
          1,
          1,
          1,
          1,
          1,
          1,
          1,
          1,
          1,
          1,
          1,
          1,
          1,
          1,
          1,
          1,
          1,
          1,
          1,
          1,
          1,
          1,
          1,
          1,
          1,
          1,
          1,
          1,
          1,
          1,
          1,
          1,
          1,
          1,
          1,
          1,
          1,
          1,
          1,
          1,
          1,
          1,
          1,
          1,
          1,
          1,
          1,
          1,
          1,
          1,
          1,
          1,
          1,
          1,
          1,
          1,
          1,
          1,
          1,
          1,
          1,
          1,
          1,
          1,
          1,
          1,
          1,
          1,
          1,
          1,
          1,
          1,
          1,
          1,
          1,
          1,
          1,
          1,
          1,
          1,
          1,
          1,
          1,
          1,
          1,
          1,
          1,
          1,
          1,
          1,
          1,
          1,
          1,
          1,
          1,
          1,
          1,
          1,
          1,
          1,
          1,
          1,
          1,
          1,
          1,
          1
         ],
         "yaxis": "y"
        }
       ],
       "layout": {
        "barmode": "relative",
        "legend": {
         "tracegroupgap": 0
        },
        "margin": {
         "t": 60
        },
        "template": {
         "data": {
          "bar": [
           {
            "error_x": {
             "color": "#2a3f5f"
            },
            "error_y": {
             "color": "#2a3f5f"
            },
            "marker": {
             "line": {
              "color": "#E5ECF6",
              "width": 0.5
             },
             "pattern": {
              "fillmode": "overlay",
              "size": 10,
              "solidity": 0.2
             }
            },
            "type": "bar"
           }
          ],
          "barpolar": [
           {
            "marker": {
             "line": {
              "color": "#E5ECF6",
              "width": 0.5
             },
             "pattern": {
              "fillmode": "overlay",
              "size": 10,
              "solidity": 0.2
             }
            },
            "type": "barpolar"
           }
          ],
          "carpet": [
           {
            "aaxis": {
             "endlinecolor": "#2a3f5f",
             "gridcolor": "white",
             "linecolor": "white",
             "minorgridcolor": "white",
             "startlinecolor": "#2a3f5f"
            },
            "baxis": {
             "endlinecolor": "#2a3f5f",
             "gridcolor": "white",
             "linecolor": "white",
             "minorgridcolor": "white",
             "startlinecolor": "#2a3f5f"
            },
            "type": "carpet"
           }
          ],
          "choropleth": [
           {
            "colorbar": {
             "outlinewidth": 0,
             "ticks": ""
            },
            "type": "choropleth"
           }
          ],
          "contour": [
           {
            "colorbar": {
             "outlinewidth": 0,
             "ticks": ""
            },
            "colorscale": [
             [
              0,
              "#0d0887"
             ],
             [
              0.1111111111111111,
              "#46039f"
             ],
             [
              0.2222222222222222,
              "#7201a8"
             ],
             [
              0.3333333333333333,
              "#9c179e"
             ],
             [
              0.4444444444444444,
              "#bd3786"
             ],
             [
              0.5555555555555556,
              "#d8576b"
             ],
             [
              0.6666666666666666,
              "#ed7953"
             ],
             [
              0.7777777777777778,
              "#fb9f3a"
             ],
             [
              0.8888888888888888,
              "#fdca26"
             ],
             [
              1,
              "#f0f921"
             ]
            ],
            "type": "contour"
           }
          ],
          "contourcarpet": [
           {
            "colorbar": {
             "outlinewidth": 0,
             "ticks": ""
            },
            "type": "contourcarpet"
           }
          ],
          "heatmap": [
           {
            "colorbar": {
             "outlinewidth": 0,
             "ticks": ""
            },
            "colorscale": [
             [
              0,
              "#0d0887"
             ],
             [
              0.1111111111111111,
              "#46039f"
             ],
             [
              0.2222222222222222,
              "#7201a8"
             ],
             [
              0.3333333333333333,
              "#9c179e"
             ],
             [
              0.4444444444444444,
              "#bd3786"
             ],
             [
              0.5555555555555556,
              "#d8576b"
             ],
             [
              0.6666666666666666,
              "#ed7953"
             ],
             [
              0.7777777777777778,
              "#fb9f3a"
             ],
             [
              0.8888888888888888,
              "#fdca26"
             ],
             [
              1,
              "#f0f921"
             ]
            ],
            "type": "heatmap"
           }
          ],
          "heatmapgl": [
           {
            "colorbar": {
             "outlinewidth": 0,
             "ticks": ""
            },
            "colorscale": [
             [
              0,
              "#0d0887"
             ],
             [
              0.1111111111111111,
              "#46039f"
             ],
             [
              0.2222222222222222,
              "#7201a8"
             ],
             [
              0.3333333333333333,
              "#9c179e"
             ],
             [
              0.4444444444444444,
              "#bd3786"
             ],
             [
              0.5555555555555556,
              "#d8576b"
             ],
             [
              0.6666666666666666,
              "#ed7953"
             ],
             [
              0.7777777777777778,
              "#fb9f3a"
             ],
             [
              0.8888888888888888,
              "#fdca26"
             ],
             [
              1,
              "#f0f921"
             ]
            ],
            "type": "heatmapgl"
           }
          ],
          "histogram": [
           {
            "marker": {
             "pattern": {
              "fillmode": "overlay",
              "size": 10,
              "solidity": 0.2
             }
            },
            "type": "histogram"
           }
          ],
          "histogram2d": [
           {
            "colorbar": {
             "outlinewidth": 0,
             "ticks": ""
            },
            "colorscale": [
             [
              0,
              "#0d0887"
             ],
             [
              0.1111111111111111,
              "#46039f"
             ],
             [
              0.2222222222222222,
              "#7201a8"
             ],
             [
              0.3333333333333333,
              "#9c179e"
             ],
             [
              0.4444444444444444,
              "#bd3786"
             ],
             [
              0.5555555555555556,
              "#d8576b"
             ],
             [
              0.6666666666666666,
              "#ed7953"
             ],
             [
              0.7777777777777778,
              "#fb9f3a"
             ],
             [
              0.8888888888888888,
              "#fdca26"
             ],
             [
              1,
              "#f0f921"
             ]
            ],
            "type": "histogram2d"
           }
          ],
          "histogram2dcontour": [
           {
            "colorbar": {
             "outlinewidth": 0,
             "ticks": ""
            },
            "colorscale": [
             [
              0,
              "#0d0887"
             ],
             [
              0.1111111111111111,
              "#46039f"
             ],
             [
              0.2222222222222222,
              "#7201a8"
             ],
             [
              0.3333333333333333,
              "#9c179e"
             ],
             [
              0.4444444444444444,
              "#bd3786"
             ],
             [
              0.5555555555555556,
              "#d8576b"
             ],
             [
              0.6666666666666666,
              "#ed7953"
             ],
             [
              0.7777777777777778,
              "#fb9f3a"
             ],
             [
              0.8888888888888888,
              "#fdca26"
             ],
             [
              1,
              "#f0f921"
             ]
            ],
            "type": "histogram2dcontour"
           }
          ],
          "mesh3d": [
           {
            "colorbar": {
             "outlinewidth": 0,
             "ticks": ""
            },
            "type": "mesh3d"
           }
          ],
          "parcoords": [
           {
            "line": {
             "colorbar": {
              "outlinewidth": 0,
              "ticks": ""
             }
            },
            "type": "parcoords"
           }
          ],
          "pie": [
           {
            "automargin": true,
            "type": "pie"
           }
          ],
          "scatter": [
           {
            "marker": {
             "colorbar": {
              "outlinewidth": 0,
              "ticks": ""
             }
            },
            "type": "scatter"
           }
          ],
          "scatter3d": [
           {
            "line": {
             "colorbar": {
              "outlinewidth": 0,
              "ticks": ""
             }
            },
            "marker": {
             "colorbar": {
              "outlinewidth": 0,
              "ticks": ""
             }
            },
            "type": "scatter3d"
           }
          ],
          "scattercarpet": [
           {
            "marker": {
             "colorbar": {
              "outlinewidth": 0,
              "ticks": ""
             }
            },
            "type": "scattercarpet"
           }
          ],
          "scattergeo": [
           {
            "marker": {
             "colorbar": {
              "outlinewidth": 0,
              "ticks": ""
             }
            },
            "type": "scattergeo"
           }
          ],
          "scattergl": [
           {
            "marker": {
             "colorbar": {
              "outlinewidth": 0,
              "ticks": ""
             }
            },
            "type": "scattergl"
           }
          ],
          "scattermapbox": [
           {
            "marker": {
             "colorbar": {
              "outlinewidth": 0,
              "ticks": ""
             }
            },
            "type": "scattermapbox"
           }
          ],
          "scatterpolar": [
           {
            "marker": {
             "colorbar": {
              "outlinewidth": 0,
              "ticks": ""
             }
            },
            "type": "scatterpolar"
           }
          ],
          "scatterpolargl": [
           {
            "marker": {
             "colorbar": {
              "outlinewidth": 0,
              "ticks": ""
             }
            },
            "type": "scatterpolargl"
           }
          ],
          "scatterternary": [
           {
            "marker": {
             "colorbar": {
              "outlinewidth": 0,
              "ticks": ""
             }
            },
            "type": "scatterternary"
           }
          ],
          "surface": [
           {
            "colorbar": {
             "outlinewidth": 0,
             "ticks": ""
            },
            "colorscale": [
             [
              0,
              "#0d0887"
             ],
             [
              0.1111111111111111,
              "#46039f"
             ],
             [
              0.2222222222222222,
              "#7201a8"
             ],
             [
              0.3333333333333333,
              "#9c179e"
             ],
             [
              0.4444444444444444,
              "#bd3786"
             ],
             [
              0.5555555555555556,
              "#d8576b"
             ],
             [
              0.6666666666666666,
              "#ed7953"
             ],
             [
              0.7777777777777778,
              "#fb9f3a"
             ],
             [
              0.8888888888888888,
              "#fdca26"
             ],
             [
              1,
              "#f0f921"
             ]
            ],
            "type": "surface"
           }
          ],
          "table": [
           {
            "cells": {
             "fill": {
              "color": "#EBF0F8"
             },
             "line": {
              "color": "white"
             }
            },
            "header": {
             "fill": {
              "color": "#C8D4E3"
             },
             "line": {
              "color": "white"
             }
            },
            "type": "table"
           }
          ]
         },
         "layout": {
          "annotationdefaults": {
           "arrowcolor": "#2a3f5f",
           "arrowhead": 0,
           "arrowwidth": 1
          },
          "autotypenumbers": "strict",
          "coloraxis": {
           "colorbar": {
            "outlinewidth": 0,
            "ticks": ""
           }
          },
          "colorscale": {
           "diverging": [
            [
             0,
             "#8e0152"
            ],
            [
             0.1,
             "#c51b7d"
            ],
            [
             0.2,
             "#de77ae"
            ],
            [
             0.3,
             "#f1b6da"
            ],
            [
             0.4,
             "#fde0ef"
            ],
            [
             0.5,
             "#f7f7f7"
            ],
            [
             0.6,
             "#e6f5d0"
            ],
            [
             0.7,
             "#b8e186"
            ],
            [
             0.8,
             "#7fbc41"
            ],
            [
             0.9,
             "#4d9221"
            ],
            [
             1,
             "#276419"
            ]
           ],
           "sequential": [
            [
             0,
             "#0d0887"
            ],
            [
             0.1111111111111111,
             "#46039f"
            ],
            [
             0.2222222222222222,
             "#7201a8"
            ],
            [
             0.3333333333333333,
             "#9c179e"
            ],
            [
             0.4444444444444444,
             "#bd3786"
            ],
            [
             0.5555555555555556,
             "#d8576b"
            ],
            [
             0.6666666666666666,
             "#ed7953"
            ],
            [
             0.7777777777777778,
             "#fb9f3a"
            ],
            [
             0.8888888888888888,
             "#fdca26"
            ],
            [
             1,
             "#f0f921"
            ]
           ],
           "sequentialminus": [
            [
             0,
             "#0d0887"
            ],
            [
             0.1111111111111111,
             "#46039f"
            ],
            [
             0.2222222222222222,
             "#7201a8"
            ],
            [
             0.3333333333333333,
             "#9c179e"
            ],
            [
             0.4444444444444444,
             "#bd3786"
            ],
            [
             0.5555555555555556,
             "#d8576b"
            ],
            [
             0.6666666666666666,
             "#ed7953"
            ],
            [
             0.7777777777777778,
             "#fb9f3a"
            ],
            [
             0.8888888888888888,
             "#fdca26"
            ],
            [
             1,
             "#f0f921"
            ]
           ]
          },
          "colorway": [
           "#636efa",
           "#EF553B",
           "#00cc96",
           "#ab63fa",
           "#FFA15A",
           "#19d3f3",
           "#FF6692",
           "#B6E880",
           "#FF97FF",
           "#FECB52"
          ],
          "font": {
           "color": "#2a3f5f"
          },
          "geo": {
           "bgcolor": "white",
           "lakecolor": "white",
           "landcolor": "#E5ECF6",
           "showlakes": true,
           "showland": true,
           "subunitcolor": "white"
          },
          "hoverlabel": {
           "align": "left"
          },
          "hovermode": "closest",
          "mapbox": {
           "style": "light"
          },
          "paper_bgcolor": "white",
          "plot_bgcolor": "#E5ECF6",
          "polar": {
           "angularaxis": {
            "gridcolor": "white",
            "linecolor": "white",
            "ticks": ""
           },
           "bgcolor": "#E5ECF6",
           "radialaxis": {
            "gridcolor": "white",
            "linecolor": "white",
            "ticks": ""
           }
          },
          "scene": {
           "xaxis": {
            "backgroundcolor": "#E5ECF6",
            "gridcolor": "white",
            "gridwidth": 2,
            "linecolor": "white",
            "showbackground": true,
            "ticks": "",
            "zerolinecolor": "white"
           },
           "yaxis": {
            "backgroundcolor": "#E5ECF6",
            "gridcolor": "white",
            "gridwidth": 2,
            "linecolor": "white",
            "showbackground": true,
            "ticks": "",
            "zerolinecolor": "white"
           },
           "zaxis": {
            "backgroundcolor": "#E5ECF6",
            "gridcolor": "white",
            "gridwidth": 2,
            "linecolor": "white",
            "showbackground": true,
            "ticks": "",
            "zerolinecolor": "white"
           }
          },
          "shapedefaults": {
           "line": {
            "color": "#2a3f5f"
           }
          },
          "ternary": {
           "aaxis": {
            "gridcolor": "white",
            "linecolor": "white",
            "ticks": ""
           },
           "baxis": {
            "gridcolor": "white",
            "linecolor": "white",
            "ticks": ""
           },
           "bgcolor": "#E5ECF6",
           "caxis": {
            "gridcolor": "white",
            "linecolor": "white",
            "ticks": ""
           }
          },
          "title": {
           "x": 0.05
          },
          "xaxis": {
           "automargin": true,
           "gridcolor": "white",
           "linecolor": "white",
           "ticks": "",
           "title": {
            "standoff": 15
           },
           "zerolinecolor": "white",
           "zerolinewidth": 2
          },
          "yaxis": {
           "automargin": true,
           "gridcolor": "white",
           "linecolor": "white",
           "ticks": "",
           "title": {
            "standoff": 15
           },
           "zerolinecolor": "white",
           "zerolinewidth": 2
          }
         }
        },
        "xaxis": {
         "anchor": "y",
         "domain": [
          0,
          1
         ],
         "title": {
          "text": "run_time"
         }
        },
        "yaxis": {
         "anchor": "x",
         "domain": [
          0,
          1
         ],
         "title": {
          "text": "count"
         }
        }
       }
      },
      "text/html": [
       "<div>                            <div id=\"636639b4-fb05-4c4b-abdc-62a1ea9903d3\" class=\"plotly-graph-div\" style=\"height:525px; width:100%;\"></div>            <script type=\"text/javascript\">                require([\"plotly\"], function(Plotly) {                    window.PLOTLYENV=window.PLOTLYENV || {};                                    if (document.getElementById(\"636639b4-fb05-4c4b-abdc-62a1ea9903d3\")) {                    Plotly.newPlot(                        \"636639b4-fb05-4c4b-abdc-62a1ea9903d3\",                        [{\"alignmentgroup\":\"True\",\"hovertemplate\":\"run_time=%{x}<br>count=%{y}<extra></extra>\",\"legendgroup\":\"\",\"marker\":{\"color\":\"#636efa\",\"pattern\":{\"shape\":\"\"}},\"name\":\"\",\"offsetgroup\":\"\",\"orientation\":\"v\",\"showlegend\":false,\"textposition\":\"auto\",\"x\":[\"half-year\",\"half-year\",\"quarter\",\"half-year\",\"quarter\",\"half-year\",\"half-year\",\"quarter\",\"half-year\",\"half-year\",\"half-year\",\"year\",\"year\",\"year\",\"quarter\",\"half-year\",\"half-year\",\"half-year\",\"quarter\",\"year\",\"quarter\",\"half-year\",\"half-year\",\"half-year\",\"quarter\",\"half-year\",\"half-year\",\"quarter\",\"quarter\",\"quarter\",\"half-year\",\"year\",\"quarter\",\"year\",\"quarter\",\"half-year\",\"half-year\",\"year\",\"quarter\",\"half-year\",\"half-year\",\"quarter\",\"year\",\"year\",\"half-year\",\"quarter\",\"half-year\",\"half-year\",\"half-year\",\"quarter\",\"quarter\",\"year\",\"half-year\",\"quarter\",\"quarter\",\"half-year\",\"half-year\",\"half-year\",\"quarter\",\"half-year\",\"quarter\",\"quarter\",\"half-year\",\"quarter\",\"quarter\",\"half-year\",\"half-year\",\"half-year\",\"quarter\",\"half-year\",\"year\",\"half-year\",\"year\",\"quarter\",\"half-year\",\"quarter\",\"quarter\",\"year\",\"half-year\",\"half-year\",\"half-year\",\"year\",\"quarter\",\"quarter\",\"half-year\",\"half-year\",\"year\",\"quarter\",\"half-year\",\"half-year\",\"half-year\",\"half-year\",\"half-year\",\"half-year\",\"half-year\",\"month\",\"half-year\",\"year\",\"year\",\"half-year\",\"quarter\",\"half-year\",\"quarter\",\"year\",\"half-year\",\"half-year\",\"half-year\",\"half-year\",\"half-year\",\"quarter\",\"quarter\",\"half-year\",\"year\",\"half-year\",\"quarter\",\"half-year\",\"year\",\"quarter\",\"half-year\",\"half-year\",\"quarter\",\"half-year\",\"quarter\",\"half-year\",\"quarter\",\"year\",\"year\",\"quarter\",\"year\",\"half-year\",\"half-year\",\"quarter\",\"year\",\"quarter\",\"half-year\",\"half-year\",\"half-year\",\"half-year\",\"quarter\",\"half-year\",\"year\",\"year\",\"quarter\",\"quarter\",\"half-year\",\"quarter\",\"half-year\",\"half-year\",\"half-year\",\"quarter\",\"quarter\",\"quarter\",\"quarter\",\"year\",\"half-year\",\"quarter\",\"half-year\",\"half-year\",\"half-year\",\"quarter\",\"quarter\",\"quarter\",\"half-year\",\"quarter\",\"month\",\"half-year\",\"half-year\",\"year\",\"quarter\",\"year\",\"quarter\",\"half-year\",\"half-year\",\"quarter\",\"quarter\",\"half-year\",\"half-year\",\"half-year\",\"year\",\"quarter\",\"quarter\",\"half-year\",\"year\",\"year\",\"half-year\",\"half-year\",\"quarter\",\"year\",\"year\",\"quarter\",\"year\",\"half-year\",\"half-year\",\"quarter\",\"year\",\"quarter\",\"month\",\"half-year\",\"half-year\",\"half-year\",\"half-year\",\"quarter\",\"year\",\"quarter\",\"quarter\",\"quarter\",\"quarter\",\"half-year\",\"quarter\",\"quarter\",\"quarter\",\"half-year\",\"half-year\",\"half-year\",\"half-year\",\"half-year\",\"quarter\",\"quarter\",\"half-year\",\"half-year\",\"year\",\"quarter\",\"half-year\",\"half-year\",\"half-year\",\"half-year\",\"half-year\",\"half-year\",\"half-year\",\"half-year\",\"half-year\",\"quarter\",\"year\",\"quarter\",\"half-year\",\"year\",\"year\",\"year\",\"year\",\"half-year\",\"quarter\",\"year\",\"year\",\"half-year\",\"quarter\",\"quarter\",\"half-year\",\"half-year\",\"half-year\",\"half-year\",\"half-year\",\"quarter\",\"quarter\",\"quarter\",\"year\",\"quarter\",\"half-year\",\"half-year\",\"half-year\",\"half-year\",\"half-year\",\"quarter\",\"half-year\",\"half-year\",\"half-year\",\"quarter\",\"quarter\",\"year\",\"half-year\",\"year\",\"quarter\",\"quarter\",\"year\",\"half-year\",\"quarter\",\"half-year\",\"quarter\",\"half-year\",\"half-year\",\"half-year\",\"half-year\",\"quarter\",\"half-year\",\"quarter\",\"half-year\",\"quarter\",\"half-year\",\"year\",\"half-year\",\"year\",\"quarter\",\"half-year\",\"half-year\",\"year\",\"half-year\",\"half-year\",\"half-year\",\"half-year\",\"half-year\",\"quarter\",\"year\",\"half-year\",\"half-year\",\"half-year\",\"half-year\",\"quarter\",\"year\",\"year\",\"year\",\"year\",\"year\",\"half-year\",\"quarter\",\"half-year\",\"half-year\",\"half-year\",\"quarter\",\"year\",\"quarter\",\"year\",\"half-year\",\"half-year\",\"quarter\",\"year\",\"half-year\",\"half-year\",\"quarter\",\"quarter\",\"half-year\",\"quarter\",\"half-year\",\"half-year\",\"half-year\",\"year\",\"quarter\",\"quarter\",\"half-year\",\"year\",\"year\",\"year\",\"year\",\"quarter\",\"year\",\"quarter\",\"half-year\",\"quarter\",\"half-year\",\"half-year\",\"half-year\",\"half-year\",\"year\",\"quarter\",\"quarter\",\"month\",\"half-year\",\"half-year\",\"half-year\",\"half-year\",\"half-year\",\"half-year\",\"year\",\"half-year\",\"year\",\"quarter\",\"half-year\",\"year\",\"quarter\",\"quarter\",\"quarter\",\"year\",\"half-year\",\"half-year\",\"half-year\",\"quarter\",\"year\",\"half-year\",\"half-year\",\"quarter\",\"year\",\"half-year\",\"quarter\",\"year\",\"year\",\"half-year\",\"year\",\"half-year\",\"half-year\",\"half-year\",\"half-year\",\"year\",\"year\",\"half-year\",\"quarter\",\"quarter\",\"quarter\",\"quarter\",\"year\",\"quarter\",\"year\",\"year\",\"month\",\"quarter\",\"year\",\"quarter\",\"half-year\",\"year\",\"year\",\"quarter\",\"half-year\",\"year\",\"year\",\"half-year\",\"half-year\",\"year\",\"half-year\",\"half-year\",\"year\",\"quarter\",\"year\",\"quarter\",\"year\",\"quarter\",\"half-year\",\"quarter\",\"half-year\",\"quarter\",\"year\",\"half-year\",\"quarter\",\"year\",\"half-year\",\"half-year\",\"half-year\",\"year\",\"half-year\",\"quarter\",\"quarter\",\"half-year\",\"quarter\",\"quarter\",\"half-year\",\"half-year\",\"quarter\",\"year\",\"quarter\",\"quarter\",\"quarter\",\"year\",\"half-year\",\"year\",\"year\",\"quarter\",\"quarter\",\"half-year\",\"year\",\"quarter\",\"year\",\"half-year\",\"year\",\"year\",\"quarter\",\"half-year\",\"half-year\",\"quarter\",\"half-year\",\"year\",\"quarter\",\"quarter\",\"quarter\",\"year\",\"half-year\",\"quarter\",\"year\",\"quarter\",\"half-year\",\"quarter\",\"quarter\",\"quarter\",\"year\",\"quarter\",\"year\",\"half-year\",\"half-year\",\"half-year\",\"half-year\",\"half-year\",\"year\",\"year\",\"half-year\",\"quarter\",\"half-year\",\"half-year\",\"quarter\",\"half-year\",\"half-year\",\"half-year\",\"half-year\",\"half-year\",\"half-year\",\"half-year\",\"year\",\"half-year\",\"half-year\",\"quarter\",\"quarter\",\"quarter\",\"half-year\",\"quarter\",\"year\",\"half-year\",\"quarter\",\"quarter\",\"year\",\"quarter\",\"half-year\",\"half-year\",\"half-year\",\"quarter\",\"year\",\"quarter\",\"month\",\"half-year\",\"half-year\",\"quarter\",\"year\",\"year\",\"half-year\",\"year\",\"quarter\",\"quarter\",\"quarter\",\"half-year\",\"year\",\"half-year\",\"half-year\",\"quarter\",\"half-year\",\"half-year\",\"quarter\",\"half-year\",\"year\",\"year\",\"year\",\"half-year\",\"year\",\"year\",\"half-year\",\"half-year\",\"quarter\",\"half-year\",\"quarter\",\"quarter\",\"half-year\",\"quarter\",\"half-year\",\"half-year\",\"year\",\"quarter\",\"quarter\",\"half-year\",\"half-year\",\"year\",\"half-year\",\"half-year\",\"quarter\",\"quarter\",\"year\",\"half-year\",\"half-year\",\"half-year\",\"half-year\",\"half-year\",\"half-year\",\"quarter\",\"year\",\"half-year\",\"half-year\",\"half-year\",\"quarter\",\"quarter\",\"half-year\",\"quarter\",\"half-year\",\"year\",\"half-year\",\"half-year\",\"year\",\"quarter\",\"quarter\",\"half-year\",\"half-year\",\"quarter\",\"half-year\",\"quarter\",\"quarter\",\"half-year\",\"quarter\",\"half-year\",\"half-year\",\"year\",\"year\",\"quarter\",\"half-year\",\"month\",\"year\",\"year\",\"half-year\",\"half-year\",\"quarter\",\"year\",\"half-year\",\"quarter\",\"half-year\",\"quarter\",\"half-year\",\"half-year\",\"year\",\"half-year\",\"quarter\",\"half-year\",\"quarter\",\"quarter\",\"quarter\",\"quarter\",\"quarter\",\"quarter\",\"quarter\",\"half-year\",\"half-year\",\"half-year\",\"half-year\",\"quarter\",\"quarter\",\"half-year\",\"half-year\",\"year\",\"half-year\",\"year\",\"half-year\",\"quarter\",\"half-year\",\"half-year\",\"half-year\",\"half-year\",\"half-year\",\"half-year\",\"quarter\",\"year\",\"half-year\",\"year\",\"year\",\"half-year\",\"year\",\"quarter\",\"half-year\",\"half-year\",\"half-year\",\"half-year\",\"quarter\",\"quarter\",\"half-year\",\"quarter\",\"half-year\",\"half-year\",\"half-year\",\"month\",\"half-year\",\"half-year\",\"half-year\",\"half-year\",\"half-year\",\"quarter\",\"year\",\"quarter\",\"quarter\",\"quarter\",\"half-year\",\"month\",\"half-year\",\"half-year\",\"quarter\",\"half-year\",\"quarter\",\"half-year\",\"quarter\",\"half-year\",\"quarter\",\"year\",\"quarter\",\"half-year\",\"quarter\",\"half-year\",\"quarter\",\"year\",\"half-year\",\"half-year\",\"quarter\",\"quarter\",\"quarter\",\"quarter\",\"half-year\",\"half-year\",\"half-year\",\"half-year\",\"quarter\",\"half-year\",\"year\",\"quarter\",\"quarter\",\"year\",\"half-year\",\"half-year\",\"year\",\"year\",\"half-year\",\"half-year\",\"half-year\",\"year\",\"quarter\",\"quarter\",\"half-year\",\"quarter\",\"quarter\",\"half-year\",\"year\",\"year\",\"half-year\",\"month\",\"half-year\",\"year\",\"year\",\"year\",\"year\",\"half-year\",\"year\",\"quarter\",\"half-year\",\"quarter\",\"year\",\"half-year\",\"half-year\",\"half-year\",\"quarter\",\"half-year\",\"quarter\",\"month\",\"year\",\"half-year\",\"half-year\",\"year\",\"half-year\",\"half-year\",\"quarter\",\"half-year\",\"year\",\"quarter\",\"half-year\",\"half-year\",\"quarter\",\"half-year\",\"quarter\",\"quarter\",\"year\",\"quarter\",\"year\",\"half-year\",\"quarter\",\"half-year\",\"half-year\",\"half-year\",\"quarter\",\"quarter\",\"half-year\",\"quarter\",\"year\",\"quarter\",\"half-year\",\"half-year\",\"half-year\",\"quarter\",\"quarter\",\"half-year\",\"half-year\",\"half-year\",\"half-year\",\"half-year\",\"half-year\",\"half-year\",\"half-year\",\"quarter\",\"quarter\",\"half-year\",\"half-year\",\"half-year\",\"half-year\",\"quarter\",\"half-year\",\"quarter\",\"quarter\",\"half-year\",\"year\",\"half-year\",\"year\",\"half-year\",\"half-year\",\"half-year\",\"half-year\",\"half-year\",\"half-year\",\"year\",\"half-year\",\"quarter\",\"half-year\",\"quarter\",\"half-year\",\"quarter\",\"half-year\",\"half-year\",\"quarter\",\"half-year\",\"half-year\",\"half-year\",\"half-year\",\"half-year\",\"half-year\",\"half-year\",\"half-year\",\"half-year\",\"year\",\"year\",\"year\",\"quarter\",\"quarter\",\"quarter\",\"half-year\",\"half-year\",\"half-year\",\"quarter\"],\"xaxis\":\"x\",\"y\":[1,1,1,1,1,1,1,1,1,1,1,1,1,1,1,1,1,1,1,1,1,1,1,1,1,1,1,1,1,1,1,1,1,1,1,1,1,1,1,1,1,1,1,1,1,1,1,1,1,1,1,1,1,1,1,1,1,1,1,1,1,1,1,1,1,1,1,1,1,1,1,1,1,1,1,1,1,1,1,1,1,1,1,1,1,1,1,1,1,1,1,1,1,1,1,1,1,1,1,1,1,1,1,1,1,1,1,1,1,1,1,1,1,1,1,1,1,1,1,1,1,1,1,1,1,1,1,1,1,1,1,1,1,1,1,1,1,1,1,1,1,1,1,1,1,1,1,1,1,1,1,1,1,1,1,1,1,1,1,1,1,1,1,1,1,1,1,1,1,1,1,1,1,1,1,1,1,1,1,1,1,1,1,1,1,1,1,1,1,1,1,1,1,1,1,1,1,1,1,1,1,1,1,1,1,1,1,1,1,1,1,1,1,1,1,1,1,1,1,1,1,1,1,1,1,1,1,1,1,1,1,1,1,1,1,1,1,1,1,1,1,1,1,1,1,1,1,1,1,1,1,1,1,1,1,1,1,1,1,1,1,1,1,1,1,1,1,1,1,1,1,1,1,1,1,1,1,1,1,1,1,1,1,1,1,1,1,1,1,1,1,1,1,1,1,1,1,1,1,1,1,1,1,1,1,1,1,1,1,1,1,1,1,1,1,1,1,1,1,1,1,1,1,1,1,1,1,1,1,1,1,1,1,1,1,1,1,1,1,1,1,1,1,1,1,1,1,1,1,1,1,1,1,1,1,1,1,1,1,1,1,1,1,1,1,1,1,1,1,1,1,1,1,1,1,1,1,1,1,1,1,1,1,1,1,1,1,1,1,1,1,1,1,1,1,1,1,1,1,1,1,1,1,1,1,1,1,1,1,1,1,1,1,1,1,1,1,1,1,1,1,1,1,1,1,1,1,1,1,1,1,1,1,1,1,1,1,1,1,1,1,1,1,1,1,1,1,1,1,1,1,1,1,1,1,1,1,1,1,1,1,1,1,1,1,1,1,1,1,1,1,1,1,1,1,1,1,1,1,1,1,1,1,1,1,1,1,1,1,1,1,1,1,1,1,1,1,1,1,1,1,1,1,1,1,1,1,1,1,1,1,1,1,1,1,1,1,1,1,1,1,1,1,1,1,1,1,1,1,1,1,1,1,1,1,1,1,1,1,1,1,1,1,1,1,1,1,1,1,1,1,1,1,1,1,1,1,1,1,1,1,1,1,1,1,1,1,1,1,1,1,1,1,1,1,1,1,1,1,1,1,1,1,1,1,1,1,1,1,1,1,1,1,1,1,1,1,1,1,1,1,1,1,1,1,1,1,1,1,1,1,1,1,1,1,1,1,1,1,1,1,1,1,1,1,1,1,1,1,1,1,1,1,1,1,1,1,1,1,1,1,1,1,1,1,1,1,1,1,1,1,1,1,1,1,1,1,1,1,1,1,1,1,1,1,1,1,1,1,1,1,1,1,1,1,1,1,1,1,1,1,1,1,1,1,1,1,1,1,1,1,1,1,1,1,1,1,1,1,1,1,1,1,1,1,1,1,1,1,1,1,1,1,1,1,1,1,1,1,1,1,1,1,1,1,1,1,1,1,1,1,1,1,1,1,1,1,1,1,1,1,1,1,1,1,1,1,1,1,1,1,1,1,1,1,1,1,1,1,1,1,1,1,1,1,1,1,1,1,1,1,1,1,1,1,1,1,1,1,1,1,1,1,1,1,1,1,1,1,1,1,1,1,1,1,1,1,1,1,1,1,1,1,1,1,1,1,1,1,1,1,1,1,1,1,1,1,1,1,1,1,1,1,1,1,1,1,1,1,1,1,1,1,1,1,1,1,1],\"yaxis\":\"y\",\"type\":\"bar\"}],                        {\"template\":{\"data\":{\"bar\":[{\"error_x\":{\"color\":\"#2a3f5f\"},\"error_y\":{\"color\":\"#2a3f5f\"},\"marker\":{\"line\":{\"color\":\"#E5ECF6\",\"width\":0.5},\"pattern\":{\"fillmode\":\"overlay\",\"size\":10,\"solidity\":0.2}},\"type\":\"bar\"}],\"barpolar\":[{\"marker\":{\"line\":{\"color\":\"#E5ECF6\",\"width\":0.5},\"pattern\":{\"fillmode\":\"overlay\",\"size\":10,\"solidity\":0.2}},\"type\":\"barpolar\"}],\"carpet\":[{\"aaxis\":{\"endlinecolor\":\"#2a3f5f\",\"gridcolor\":\"white\",\"linecolor\":\"white\",\"minorgridcolor\":\"white\",\"startlinecolor\":\"#2a3f5f\"},\"baxis\":{\"endlinecolor\":\"#2a3f5f\",\"gridcolor\":\"white\",\"linecolor\":\"white\",\"minorgridcolor\":\"white\",\"startlinecolor\":\"#2a3f5f\"},\"type\":\"carpet\"}],\"choropleth\":[{\"colorbar\":{\"outlinewidth\":0,\"ticks\":\"\"},\"type\":\"choropleth\"}],\"contour\":[{\"colorbar\":{\"outlinewidth\":0,\"ticks\":\"\"},\"colorscale\":[[0.0,\"#0d0887\"],[0.1111111111111111,\"#46039f\"],[0.2222222222222222,\"#7201a8\"],[0.3333333333333333,\"#9c179e\"],[0.4444444444444444,\"#bd3786\"],[0.5555555555555556,\"#d8576b\"],[0.6666666666666666,\"#ed7953\"],[0.7777777777777778,\"#fb9f3a\"],[0.8888888888888888,\"#fdca26\"],[1.0,\"#f0f921\"]],\"type\":\"contour\"}],\"contourcarpet\":[{\"colorbar\":{\"outlinewidth\":0,\"ticks\":\"\"},\"type\":\"contourcarpet\"}],\"heatmap\":[{\"colorbar\":{\"outlinewidth\":0,\"ticks\":\"\"},\"colorscale\":[[0.0,\"#0d0887\"],[0.1111111111111111,\"#46039f\"],[0.2222222222222222,\"#7201a8\"],[0.3333333333333333,\"#9c179e\"],[0.4444444444444444,\"#bd3786\"],[0.5555555555555556,\"#d8576b\"],[0.6666666666666666,\"#ed7953\"],[0.7777777777777778,\"#fb9f3a\"],[0.8888888888888888,\"#fdca26\"],[1.0,\"#f0f921\"]],\"type\":\"heatmap\"}],\"heatmapgl\":[{\"colorbar\":{\"outlinewidth\":0,\"ticks\":\"\"},\"colorscale\":[[0.0,\"#0d0887\"],[0.1111111111111111,\"#46039f\"],[0.2222222222222222,\"#7201a8\"],[0.3333333333333333,\"#9c179e\"],[0.4444444444444444,\"#bd3786\"],[0.5555555555555556,\"#d8576b\"],[0.6666666666666666,\"#ed7953\"],[0.7777777777777778,\"#fb9f3a\"],[0.8888888888888888,\"#fdca26\"],[1.0,\"#f0f921\"]],\"type\":\"heatmapgl\"}],\"histogram\":[{\"marker\":{\"pattern\":{\"fillmode\":\"overlay\",\"size\":10,\"solidity\":0.2}},\"type\":\"histogram\"}],\"histogram2d\":[{\"colorbar\":{\"outlinewidth\":0,\"ticks\":\"\"},\"colorscale\":[[0.0,\"#0d0887\"],[0.1111111111111111,\"#46039f\"],[0.2222222222222222,\"#7201a8\"],[0.3333333333333333,\"#9c179e\"],[0.4444444444444444,\"#bd3786\"],[0.5555555555555556,\"#d8576b\"],[0.6666666666666666,\"#ed7953\"],[0.7777777777777778,\"#fb9f3a\"],[0.8888888888888888,\"#fdca26\"],[1.0,\"#f0f921\"]],\"type\":\"histogram2d\"}],\"histogram2dcontour\":[{\"colorbar\":{\"outlinewidth\":0,\"ticks\":\"\"},\"colorscale\":[[0.0,\"#0d0887\"],[0.1111111111111111,\"#46039f\"],[0.2222222222222222,\"#7201a8\"],[0.3333333333333333,\"#9c179e\"],[0.4444444444444444,\"#bd3786\"],[0.5555555555555556,\"#d8576b\"],[0.6666666666666666,\"#ed7953\"],[0.7777777777777778,\"#fb9f3a\"],[0.8888888888888888,\"#fdca26\"],[1.0,\"#f0f921\"]],\"type\":\"histogram2dcontour\"}],\"mesh3d\":[{\"colorbar\":{\"outlinewidth\":0,\"ticks\":\"\"},\"type\":\"mesh3d\"}],\"parcoords\":[{\"line\":{\"colorbar\":{\"outlinewidth\":0,\"ticks\":\"\"}},\"type\":\"parcoords\"}],\"pie\":[{\"automargin\":true,\"type\":\"pie\"}],\"scatter\":[{\"marker\":{\"colorbar\":{\"outlinewidth\":0,\"ticks\":\"\"}},\"type\":\"scatter\"}],\"scatter3d\":[{\"line\":{\"colorbar\":{\"outlinewidth\":0,\"ticks\":\"\"}},\"marker\":{\"colorbar\":{\"outlinewidth\":0,\"ticks\":\"\"}},\"type\":\"scatter3d\"}],\"scattercarpet\":[{\"marker\":{\"colorbar\":{\"outlinewidth\":0,\"ticks\":\"\"}},\"type\":\"scattercarpet\"}],\"scattergeo\":[{\"marker\":{\"colorbar\":{\"outlinewidth\":0,\"ticks\":\"\"}},\"type\":\"scattergeo\"}],\"scattergl\":[{\"marker\":{\"colorbar\":{\"outlinewidth\":0,\"ticks\":\"\"}},\"type\":\"scattergl\"}],\"scattermapbox\":[{\"marker\":{\"colorbar\":{\"outlinewidth\":0,\"ticks\":\"\"}},\"type\":\"scattermapbox\"}],\"scatterpolar\":[{\"marker\":{\"colorbar\":{\"outlinewidth\":0,\"ticks\":\"\"}},\"type\":\"scatterpolar\"}],\"scatterpolargl\":[{\"marker\":{\"colorbar\":{\"outlinewidth\":0,\"ticks\":\"\"}},\"type\":\"scatterpolargl\"}],\"scatterternary\":[{\"marker\":{\"colorbar\":{\"outlinewidth\":0,\"ticks\":\"\"}},\"type\":\"scatterternary\"}],\"surface\":[{\"colorbar\":{\"outlinewidth\":0,\"ticks\":\"\"},\"colorscale\":[[0.0,\"#0d0887\"],[0.1111111111111111,\"#46039f\"],[0.2222222222222222,\"#7201a8\"],[0.3333333333333333,\"#9c179e\"],[0.4444444444444444,\"#bd3786\"],[0.5555555555555556,\"#d8576b\"],[0.6666666666666666,\"#ed7953\"],[0.7777777777777778,\"#fb9f3a\"],[0.8888888888888888,\"#fdca26\"],[1.0,\"#f0f921\"]],\"type\":\"surface\"}],\"table\":[{\"cells\":{\"fill\":{\"color\":\"#EBF0F8\"},\"line\":{\"color\":\"white\"}},\"header\":{\"fill\":{\"color\":\"#C8D4E3\"},\"line\":{\"color\":\"white\"}},\"type\":\"table\"}]},\"layout\":{\"annotationdefaults\":{\"arrowcolor\":\"#2a3f5f\",\"arrowhead\":0,\"arrowwidth\":1},\"autotypenumbers\":\"strict\",\"coloraxis\":{\"colorbar\":{\"outlinewidth\":0,\"ticks\":\"\"}},\"colorscale\":{\"diverging\":[[0,\"#8e0152\"],[0.1,\"#c51b7d\"],[0.2,\"#de77ae\"],[0.3,\"#f1b6da\"],[0.4,\"#fde0ef\"],[0.5,\"#f7f7f7\"],[0.6,\"#e6f5d0\"],[0.7,\"#b8e186\"],[0.8,\"#7fbc41\"],[0.9,\"#4d9221\"],[1,\"#276419\"]],\"sequential\":[[0.0,\"#0d0887\"],[0.1111111111111111,\"#46039f\"],[0.2222222222222222,\"#7201a8\"],[0.3333333333333333,\"#9c179e\"],[0.4444444444444444,\"#bd3786\"],[0.5555555555555556,\"#d8576b\"],[0.6666666666666666,\"#ed7953\"],[0.7777777777777778,\"#fb9f3a\"],[0.8888888888888888,\"#fdca26\"],[1.0,\"#f0f921\"]],\"sequentialminus\":[[0.0,\"#0d0887\"],[0.1111111111111111,\"#46039f\"],[0.2222222222222222,\"#7201a8\"],[0.3333333333333333,\"#9c179e\"],[0.4444444444444444,\"#bd3786\"],[0.5555555555555556,\"#d8576b\"],[0.6666666666666666,\"#ed7953\"],[0.7777777777777778,\"#fb9f3a\"],[0.8888888888888888,\"#fdca26\"],[1.0,\"#f0f921\"]]},\"colorway\":[\"#636efa\",\"#EF553B\",\"#00cc96\",\"#ab63fa\",\"#FFA15A\",\"#19d3f3\",\"#FF6692\",\"#B6E880\",\"#FF97FF\",\"#FECB52\"],\"font\":{\"color\":\"#2a3f5f\"},\"geo\":{\"bgcolor\":\"white\",\"lakecolor\":\"white\",\"landcolor\":\"#E5ECF6\",\"showlakes\":true,\"showland\":true,\"subunitcolor\":\"white\"},\"hoverlabel\":{\"align\":\"left\"},\"hovermode\":\"closest\",\"mapbox\":{\"style\":\"light\"},\"paper_bgcolor\":\"white\",\"plot_bgcolor\":\"#E5ECF6\",\"polar\":{\"angularaxis\":{\"gridcolor\":\"white\",\"linecolor\":\"white\",\"ticks\":\"\"},\"bgcolor\":\"#E5ECF6\",\"radialaxis\":{\"gridcolor\":\"white\",\"linecolor\":\"white\",\"ticks\":\"\"}},\"scene\":{\"xaxis\":{\"backgroundcolor\":\"#E5ECF6\",\"gridcolor\":\"white\",\"gridwidth\":2,\"linecolor\":\"white\",\"showbackground\":true,\"ticks\":\"\",\"zerolinecolor\":\"white\"},\"yaxis\":{\"backgroundcolor\":\"#E5ECF6\",\"gridcolor\":\"white\",\"gridwidth\":2,\"linecolor\":\"white\",\"showbackground\":true,\"ticks\":\"\",\"zerolinecolor\":\"white\"},\"zaxis\":{\"backgroundcolor\":\"#E5ECF6\",\"gridcolor\":\"white\",\"gridwidth\":2,\"linecolor\":\"white\",\"showbackground\":true,\"ticks\":\"\",\"zerolinecolor\":\"white\"}},\"shapedefaults\":{\"line\":{\"color\":\"#2a3f5f\"}},\"ternary\":{\"aaxis\":{\"gridcolor\":\"white\",\"linecolor\":\"white\",\"ticks\":\"\"},\"baxis\":{\"gridcolor\":\"white\",\"linecolor\":\"white\",\"ticks\":\"\"},\"bgcolor\":\"#E5ECF6\",\"caxis\":{\"gridcolor\":\"white\",\"linecolor\":\"white\",\"ticks\":\"\"}},\"title\":{\"x\":0.05},\"xaxis\":{\"automargin\":true,\"gridcolor\":\"white\",\"linecolor\":\"white\",\"ticks\":\"\",\"title\":{\"standoff\":15},\"zerolinecolor\":\"white\",\"zerolinewidth\":2},\"yaxis\":{\"automargin\":true,\"gridcolor\":\"white\",\"linecolor\":\"white\",\"ticks\":\"\",\"title\":{\"standoff\":15},\"zerolinecolor\":\"white\",\"zerolinewidth\":2}}},\"xaxis\":{\"anchor\":\"y\",\"domain\":[0.0,1.0],\"title\":{\"text\":\"run_time\"}},\"yaxis\":{\"anchor\":\"x\",\"domain\":[0.0,1.0],\"title\":{\"text\":\"count\"}},\"legend\":{\"tracegroupgap\":0},\"margin\":{\"t\":60},\"barmode\":\"relative\"},                        {\"responsive\": true}                    ).then(function(){\n",
       "                            \n",
       "var gd = document.getElementById('636639b4-fb05-4c4b-abdc-62a1ea9903d3');\n",
       "var x = new MutationObserver(function (mutations, observer) {{\n",
       "        var display = window.getComputedStyle(gd).display;\n",
       "        if (!display || display === 'none') {{\n",
       "            console.log([gd, 'removed!']);\n",
       "            Plotly.purge(gd);\n",
       "            observer.disconnect();\n",
       "        }}\n",
       "}});\n",
       "\n",
       "// Listen for the removal of the full notebook cells\n",
       "var notebookContainer = gd.closest('#notebook-container');\n",
       "if (notebookContainer) {{\n",
       "    x.observe(notebookContainer, {childList: true});\n",
       "}}\n",
       "\n",
       "// Listen for the clearing of the current output cell\n",
       "var outputEl = gd.closest('.output');\n",
       "if (outputEl) {{\n",
       "    x.observe(outputEl, {childList: true});\n",
       "}}\n",
       "\n",
       "                        })                };                });            </script>        </div>"
      ]
     },
     "metadata": {},
     "output_type": "display_data"
    }
   ],
   "source": [
    "# build an interactive barplot that will show categories with the number of unique customers in them\n",
    "fig = px.bar(ran_ads_clients, x='run_time')\n",
    "fig.show()"
   ]
  },
  {
   "cell_type": "code",
   "execution_count": null,
   "id": "abd76577",
   "metadata": {},
   "outputs": [],
   "source": []
  },
  {
   "cell_type": "code",
   "execution_count": null,
   "id": "90d2104e",
   "metadata": {},
   "outputs": [],
   "source": []
  },
  {
   "cell_type": "code",
   "execution_count": null,
   "id": "f9b38801",
   "metadata": {},
   "outputs": [],
   "source": []
  },
  {
   "cell_type": "code",
   "execution_count": null,
   "id": "67c10d2e",
   "metadata": {},
   "outputs": [],
   "source": []
  },
  {
   "cell_type": "code",
   "execution_count": null,
   "id": "b98e0a01",
   "metadata": {},
   "outputs": [],
   "source": []
  },
  {
   "cell_type": "code",
   "execution_count": null,
   "id": "9798c703",
   "metadata": {},
   "outputs": [],
   "source": []
  },
  {
   "cell_type": "code",
   "execution_count": null,
   "id": "6219ec81",
   "metadata": {},
   "outputs": [],
   "source": []
  },
  {
   "cell_type": "code",
   "execution_count": null,
   "id": "b6285160",
   "metadata": {},
   "outputs": [],
   "source": []
  },
  {
   "cell_type": "code",
   "execution_count": null,
   "id": "4a3c3ba1",
   "metadata": {},
   "outputs": [],
   "source": []
  },
  {
   "cell_type": "code",
   "execution_count": null,
   "id": "e197a469",
   "metadata": {},
   "outputs": [],
   "source": []
  },
  {
   "cell_type": "code",
   "execution_count": null,
   "id": "696de800",
   "metadata": {},
   "outputs": [],
   "source": []
  }
 ],
 "metadata": {
  "kernelspec": {
   "display_name": "Python 3 (ipykernel)",
   "language": "python",
   "name": "python3"
  },
  "language_info": {
   "codemirror_mode": {
    "name": "ipython",
    "version": 3
   },
   "file_extension": ".py",
   "mimetype": "text/x-python",
   "name": "python",
   "nbconvert_exporter": "python",
   "pygments_lexer": "ipython3",
   "version": "3.9.12"
  }
 },
 "nbformat": 4,
 "nbformat_minor": 5
}
