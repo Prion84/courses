{
 "cells": [
  {
   "cell_type": "code",
   "execution_count": 1,
   "id": "15d9a5cc",
   "metadata": {},
   "outputs": [],
   "source": [
    "import pandas as pd\n",
    "import os"
   ]
  },
  {
   "cell_type": "code",
   "execution_count": 2,
   "id": "9e55c0cd",
   "metadata": {},
   "outputs": [],
   "source": [
    "# find all files\n",
    "files_list = [file for file in os.listdir() if file.endswith('.csv') and file.startswith('tm_')]"
   ]
  },
  {
   "cell_type": "code",
   "execution_count": 3,
   "id": "1070f9fa",
   "metadata": {},
   "outputs": [],
   "source": [
    "# create dataFrame with subsid\n",
    "subsid = pd.DataFrame()\n",
    "for i in files_list:\n",
    "    tmp = pd.read_csv(i, sep=';', parse_dates=[-1])\n",
    "    subsid = pd.concat([subsid, tmp], ignore_index=True)"
   ]
  },
  {
   "cell_type": "code",
   "execution_count": 4,
   "id": "4a8554b3",
   "metadata": {},
   "outputs": [],
   "source": [
    "# prepare dataFrame to work \n",
    "subsid = subsid.dropna(subset=['SUBS_ID'])\n",
    "# unify ID\n",
    "subsid['SUBS_ID'] = subsid['SUBS_ID'].apply(lambda x: 'id' + x if not x.startswith('id') else x)"
   ]
  },
  {
   "cell_type": "code",
   "execution_count": 5,
   "id": "78728c1d",
   "metadata": {
    "scrolled": true
   },
   "outputs": [
    {
     "data": {
      "text/html": [
       "<div>\n",
       "<style scoped>\n",
       "    .dataframe tbody tr th:only-of-type {\n",
       "        vertical-align: middle;\n",
       "    }\n",
       "\n",
       "    .dataframe tbody tr th {\n",
       "        vertical-align: top;\n",
       "    }\n",
       "\n",
       "    .dataframe thead th {\n",
       "        text-align: right;\n",
       "    }\n",
       "</style>\n",
       "<table border=\"1\" class=\"dataframe\">\n",
       "  <thead>\n",
       "    <tr style=\"text-align: right;\">\n",
       "      <th></th>\n",
       "      <th>SUBS_ID</th>\n",
       "      <th>FILIAL_ID</th>\n",
       "      <th>PROD_ID</th>\n",
       "      <th>ACT_DTTM</th>\n",
       "    </tr>\n",
       "  </thead>\n",
       "  <tbody>\n",
       "    <tr>\n",
       "      <th>0</th>\n",
       "      <td>id4651830</td>\n",
       "      <td>1</td>\n",
       "      <td>1954</td>\n",
       "      <td>2020-03-20 14:59:00</td>\n",
       "    </tr>\n",
       "    <tr>\n",
       "      <th>1</th>\n",
       "      <td>id7646509</td>\n",
       "      <td>5</td>\n",
       "      <td>6431</td>\n",
       "      <td>2020-03-19 13:00:00</td>\n",
       "    </tr>\n",
       "    <tr>\n",
       "      <th>2</th>\n",
       "      <td>id7412683</td>\n",
       "      <td>4</td>\n",
       "      <td>3313</td>\n",
       "      <td>2020-03-22 17:25:00</td>\n",
       "    </tr>\n",
       "    <tr>\n",
       "      <th>3</th>\n",
       "      <td>id5416547</td>\n",
       "      <td>3</td>\n",
       "      <td>1743</td>\n",
       "      <td>2020-03-17 10:17:00</td>\n",
       "    </tr>\n",
       "    <tr>\n",
       "      <th>5</th>\n",
       "      <td>id8362218</td>\n",
       "      <td>7</td>\n",
       "      <td>9879</td>\n",
       "      <td>2020-05-03 11:42:00</td>\n",
       "    </tr>\n",
       "    <tr>\n",
       "      <th>6</th>\n",
       "      <td>id2185490</td>\n",
       "      <td>2</td>\n",
       "      <td>3210</td>\n",
       "      <td>2020-03-16 16:28:00</td>\n",
       "    </tr>\n",
       "    <tr>\n",
       "      <th>7</th>\n",
       "      <td>id5764122</td>\n",
       "      <td>3</td>\n",
       "      <td>1499</td>\n",
       "      <td>2020-03-18 15:44:00</td>\n",
       "    </tr>\n",
       "    <tr>\n",
       "      <th>8</th>\n",
       "      <td>id7642700</td>\n",
       "      <td>6</td>\n",
       "      <td>3020</td>\n",
       "      <td>2020-03-15 14:21:00</td>\n",
       "    </tr>\n",
       "    <tr>\n",
       "      <th>9</th>\n",
       "      <td>id1374509</td>\n",
       "      <td>2</td>\n",
       "      <td>5677</td>\n",
       "      <td>2020-03-17 11:48:00</td>\n",
       "    </tr>\n",
       "  </tbody>\n",
       "</table>\n",
       "</div>"
      ],
      "text/plain": [
       "     SUBS_ID  FILIAL_ID  PROD_ID            ACT_DTTM\n",
       "0  id4651830          1     1954 2020-03-20 14:59:00\n",
       "1  id7646509          5     6431 2020-03-19 13:00:00\n",
       "2  id7412683          4     3313 2020-03-22 17:25:00\n",
       "3  id5416547          3     1743 2020-03-17 10:17:00\n",
       "5  id8362218          7     9879 2020-05-03 11:42:00\n",
       "6  id2185490          2     3210 2020-03-16 16:28:00\n",
       "7  id5764122          3     1499 2020-03-18 15:44:00\n",
       "8  id7642700          6     3020 2020-03-15 14:21:00\n",
       "9  id1374509          2     5677 2020-03-17 11:48:00"
      ]
     },
     "execution_count": 5,
     "metadata": {},
     "output_type": "execute_result"
    }
   ],
   "source": [
    "subsid"
   ]
  },
  {
   "cell_type": "code",
   "execution_count": 6,
   "id": "c8aa1a3d",
   "metadata": {},
   "outputs": [],
   "source": [
    "# read activations dataFrame\n",
    "path_to_activations = 'prod_activations_logs.csv'\n",
    "activations = pd.read_csv(path_to_activations, sep=';')"
   ]
  },
  {
   "cell_type": "code",
   "execution_count": 7,
   "id": "a1d07fbd",
   "metadata": {
    "scrolled": true
   },
   "outputs": [],
   "source": [
    "# change date formats\n",
    "activations.START_DTTM = pd.to_datetime(activations.START_DTTM, format='%d-%m-%Y %H:%M')\n",
    "activations.END_DTTM = pd.to_datetime(activations.END_DTTM, format='%d-%m-%Y %H:%M')"
   ]
  },
  {
   "cell_type": "code",
   "execution_count": 8,
   "id": "17135b1b",
   "metadata": {},
   "outputs": [
    {
     "data": {
      "text/html": [
       "<div>\n",
       "<style scoped>\n",
       "    .dataframe tbody tr th:only-of-type {\n",
       "        vertical-align: middle;\n",
       "    }\n",
       "\n",
       "    .dataframe tbody tr th {\n",
       "        vertical-align: top;\n",
       "    }\n",
       "\n",
       "    .dataframe thead th {\n",
       "        text-align: right;\n",
       "    }\n",
       "</style>\n",
       "<table border=\"1\" class=\"dataframe\">\n",
       "  <thead>\n",
       "    <tr style=\"text-align: right;\">\n",
       "      <th></th>\n",
       "      <th>SUBS_ID</th>\n",
       "      <th>PROD_ID</th>\n",
       "      <th>START_DTTM</th>\n",
       "      <th>END_DTTM</th>\n",
       "      <th>difference</th>\n",
       "    </tr>\n",
       "  </thead>\n",
       "  <tbody>\n",
       "    <tr>\n",
       "      <th>1</th>\n",
       "      <td>id4651830</td>\n",
       "      <td>1954</td>\n",
       "      <td>2020-03-20 14:59:00</td>\n",
       "      <td>2020-12-01 00:00:00</td>\n",
       "      <td>255 days 09:01:00</td>\n",
       "    </tr>\n",
       "    <tr>\n",
       "      <th>2</th>\n",
       "      <td>id7461794</td>\n",
       "      <td>3310</td>\n",
       "      <td>2020-03-20 17:25:00</td>\n",
       "      <td>2020-12-01 00:00:00</td>\n",
       "      <td>255 days 06:35:00</td>\n",
       "    </tr>\n",
       "    <tr>\n",
       "      <th>3</th>\n",
       "      <td>id5416547</td>\n",
       "      <td>1743</td>\n",
       "      <td>2020-03-17 10:17:00</td>\n",
       "      <td>2020-03-25 11:00:00</td>\n",
       "      <td>8 days 00:43:00</td>\n",
       "    </tr>\n",
       "    <tr>\n",
       "      <th>3</th>\n",
       "      <td>id8641743</td>\n",
       "      <td>2752</td>\n",
       "      <td>2020-03-20 15:44:00</td>\n",
       "      <td>2020-04-21 15:44:00</td>\n",
       "      <td>32 days 00:00:00</td>\n",
       "    </tr>\n",
       "    <tr>\n",
       "      <th>2</th>\n",
       "      <td>id2185490</td>\n",
       "      <td>3210</td>\n",
       "      <td>2020-03-16 16:28:00</td>\n",
       "      <td>2020-12-01 00:00:00</td>\n",
       "      <td>259 days 07:32:00</td>\n",
       "    </tr>\n",
       "    <tr>\n",
       "      <th>6</th>\n",
       "      <td>id7642700</td>\n",
       "      <td>3020</td>\n",
       "      <td>2020-03-15 14:21:00</td>\n",
       "      <td>2020-03-15 23:42:00</td>\n",
       "      <td>0 days 09:21:00</td>\n",
       "    </tr>\n",
       "    <tr>\n",
       "      <th>2</th>\n",
       "      <td>id8741631</td>\n",
       "      <td>5677</td>\n",
       "      <td>2020-03-19 12:28:00</td>\n",
       "      <td>2020-12-01 00:00:00</td>\n",
       "      <td>256 days 11:32:00</td>\n",
       "    </tr>\n",
       "  </tbody>\n",
       "</table>\n",
       "</div>"
      ],
      "text/plain": [
       "     SUBS_ID  PROD_ID          START_DTTM            END_DTTM  \\\n",
       "1  id4651830     1954 2020-03-20 14:59:00 2020-12-01 00:00:00   \n",
       "2  id7461794     3310 2020-03-20 17:25:00 2020-12-01 00:00:00   \n",
       "3  id5416547     1743 2020-03-17 10:17:00 2020-03-25 11:00:00   \n",
       "3  id8641743     2752 2020-03-20 15:44:00 2020-04-21 15:44:00   \n",
       "2  id2185490     3210 2020-03-16 16:28:00 2020-12-01 00:00:00   \n",
       "6  id7642700     3020 2020-03-15 14:21:00 2020-03-15 23:42:00   \n",
       "2  id8741631     5677 2020-03-19 12:28:00 2020-12-01 00:00:00   \n",
       "\n",
       "         difference  \n",
       "1 255 days 09:01:00  \n",
       "2 255 days 06:35:00  \n",
       "3   8 days 00:43:00  \n",
       "3  32 days 00:00:00  \n",
       "2 259 days 07:32:00  \n",
       "6   0 days 09:21:00  \n",
       "2 256 days 11:32:00  "
      ]
     },
     "execution_count": 8,
     "metadata": {},
     "output_type": "execute_result"
    }
   ],
   "source": [
    "# delete short connections\n",
    "activations['difference'] = activations.END_DTTM - activations.START_DTTM\n",
    "result = activations.loc[activations.difference > pd.Timedelta(5, 'm')]\n",
    "result"
   ]
  },
  {
   "cell_type": "code",
   "execution_count": 9,
   "id": "e064b63a",
   "metadata": {},
   "outputs": [],
   "source": [
    "# save correct connection to the file\n",
    "# correct_connections_to_write = subsid.merge(activations, how='inner', on='SUBS_ID')[['ACT_DTTM', 'FILIAL_ID', 'difference']]\n",
    "correct_connections = subsid.merge(result, how='inner', on='SUBS_ID')\n",
    "correct_connections[['ACT_DTTM', 'FILIAL_ID', 'difference']].to_csv('correct_connections', index=False, sep=';')"
   ]
  },
  {
   "cell_type": "code",
   "execution_count": 10,
   "id": "fc70f6de",
   "metadata": {},
   "outputs": [
    {
     "name": "stdout",
     "output_type": "stream",
     "text": [
      "id2185490, id4651830, id5416547, id7642700\n"
     ]
    }
   ],
   "source": [
    "# print SUBS_ID for correct connections\n",
    "print(*list(correct_connections.SUBS_ID.sort_values()), sep=', ')"
   ]
  }
 ],
 "metadata": {
  "kernelspec": {
   "display_name": "Python 3 (ipykernel)",
   "language": "python",
   "name": "python3"
  },
  "language_info": {
   "codemirror_mode": {
    "name": "ipython",
    "version": 3
   },
   "file_extension": ".py",
   "mimetype": "text/x-python",
   "name": "python",
   "nbconvert_exporter": "python",
   "pygments_lexer": "ipython3",
   "version": "3.9.12"
  }
 },
 "nbformat": 4,
 "nbformat_minor": 5
}
