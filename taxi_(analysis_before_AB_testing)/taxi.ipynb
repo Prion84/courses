{
 "cells": [
  {
   "cell_type": "code",
   "execution_count": 33,
   "id": "176628ec",
   "metadata": {},
   "outputs": [],
   "source": [
    "import pandas as pd\n",
    "import seaborn as sns\n",
    "import matplotlib.pyplot as plt\n",
    "\n",
    "from scipy.stats import chi2_contingency, chi2, mannwhitneyu, shapiro, kruskal\n",
    "import statsmodels.api as sa \n",
    "import scikit_posthocs as sp\n",
    "\n",
    "%matplotlib inline"
   ]
  },
  {
   "cell_type": "code",
   "execution_count": 6,
   "id": "f8da6073",
   "metadata": {},
   "outputs": [],
   "source": [
    "df = pd.read_csv('taxi.csv')"
   ]
  },
  {
   "cell_type": "code",
   "execution_count": 8,
   "id": "bf1b6f67",
   "metadata": {},
   "outputs": [
    {
     "data": {
      "text/plain": [
       "avg_dist                     0\n",
       "avg_rating_by_driver       201\n",
       "avg_rating_of_driver      8122\n",
       "avg_surge                    0\n",
       "city                         0\n",
       "last_trip_date               0\n",
       "phone                      396\n",
       "signup_date                  0\n",
       "surge_pct                    0\n",
       "trips_in_first_30_days       0\n",
       "luxury_car_user              0\n",
       "weekday_pct                  0\n",
       "dtype: int64"
      ]
     },
     "execution_count": 8,
     "metadata": {},
     "output_type": "execute_result"
    }
   ],
   "source": [
    "df.isna().sum()"
   ]
  },
  {
   "cell_type": "code",
   "execution_count": 12,
   "id": "e94f40ec",
   "metadata": {},
   "outputs": [
    {
     "data": {
      "text/plain": [
       "avg_dist                  float64\n",
       "avg_rating_by_driver      float64\n",
       "avg_rating_of_driver      float64\n",
       "avg_surge                 float64\n",
       "city                       object\n",
       "last_trip_date             object\n",
       "phone                      object\n",
       "signup_date                object\n",
       "surge_pct                 float64\n",
       "trips_in_first_30_days      int64\n",
       "luxury_car_user              bool\n",
       "weekday_pct               float64\n",
       "dtype: object"
      ]
     },
     "execution_count": 12,
     "metadata": {},
     "output_type": "execute_result"
    }
   ],
   "source": [
    "df.dtypes"
   ]
  },
  {
   "cell_type": "code",
   "execution_count": 15,
   "id": "6eb819c3",
   "metadata": {},
   "outputs": [],
   "source": [
    "df.last_trip_date = pd.to_datetime(df.last_trip_date)\n",
    "df.signup_date = pd.to_datetime(df.signup_date)"
   ]
  },
  {
   "cell_type": "markdown",
   "id": "5b2b6827",
   "metadata": {},
   "source": [
    "Add churn rate"
   ]
  },
  {
   "cell_type": "code",
   "execution_count": 19,
   "id": "f8b5e37b",
   "metadata": {},
   "outputs": [],
   "source": [
    "df['days_since_last_trip'] = df.last_trip_date.max() - df.last_trip_date\n",
    "df['days_since_last_trip'] = df['days_since_last_trip'].dt.days\n",
    "df['churn'] = df.days_since_last_trip.apply(lambda x: 'churn' if x > 30 else 'not_churn')"
   ]
  },
  {
   "cell_type": "markdown",
   "id": "7325a364",
   "metadata": {},
   "source": [
    "is there the difference in churn between cities?"
   ]
  },
  {
   "cell_type": "code",
   "execution_count": 22,
   "id": "da2cb62c",
   "metadata": {},
   "outputs": [
    {
     "data": {
      "text/html": [
       "<div>\n",
       "<style scoped>\n",
       "    .dataframe tbody tr th:only-of-type {\n",
       "        vertical-align: middle;\n",
       "    }\n",
       "\n",
       "    .dataframe tbody tr th {\n",
       "        vertical-align: top;\n",
       "    }\n",
       "\n",
       "    .dataframe thead th {\n",
       "        text-align: right;\n",
       "    }\n",
       "</style>\n",
       "<table border=\"1\" class=\"dataframe\">\n",
       "  <thead>\n",
       "    <tr style=\"text-align: right;\">\n",
       "      <th>city</th>\n",
       "      <th>Astapor</th>\n",
       "      <th>King's Landing</th>\n",
       "      <th>Winterfell</th>\n",
       "    </tr>\n",
       "    <tr>\n",
       "      <th>churn</th>\n",
       "      <th></th>\n",
       "      <th></th>\n",
       "      <th></th>\n",
       "    </tr>\n",
       "  </thead>\n",
       "  <tbody>\n",
       "    <tr>\n",
       "      <th>churn</th>\n",
       "      <td>12306</td>\n",
       "      <td>3767</td>\n",
       "      <td>15123</td>\n",
       "    </tr>\n",
       "    <tr>\n",
       "      <th>not_churn</th>\n",
       "      <td>4228</td>\n",
       "      <td>6363</td>\n",
       "      <td>8213</td>\n",
       "    </tr>\n",
       "  </tbody>\n",
       "</table>\n",
       "</div>"
      ],
      "text/plain": [
       "city       Astapor  King's Landing  Winterfell\n",
       "churn                                         \n",
       "churn        12306            3767       15123\n",
       "not_churn     4228            6363        8213"
      ]
     },
     "execution_count": 22,
     "metadata": {},
     "output_type": "execute_result"
    }
   ],
   "source": [
    "pd.crosstab(df.churn, df.city)"
   ]
  },
  {
   "cell_type": "markdown",
   "id": "c14d379f",
   "metadata": {},
   "source": [
    "lets use Chi-squared test"
   ]
  },
  {
   "cell_type": "code",
   "execution_count": 24,
   "id": "dfd4f523",
   "metadata": {},
   "outputs": [
    {
     "data": {
      "text/plain": [
       "(3821.5510225559633, 0.0)"
      ]
     },
     "execution_count": 24,
     "metadata": {},
     "output_type": "execute_result"
    }
   ],
   "source": [
    "stat, p, dof, expected = chi2_contingency(pd.crosstab(df.churn, df.city))\n",
    "stat, p"
   ]
  },
  {
   "cell_type": "markdown",
   "id": "3f9bcae1",
   "metadata": {},
   "source": [
    "difference exists"
   ]
  },
  {
   "cell_type": "markdown",
   "id": "afa7e84f",
   "metadata": {},
   "source": [
    "Is there the difference in activities in the first 30 days?"
   ]
  },
  {
   "cell_type": "code",
   "execution_count": 46,
   "id": "534b0d89",
   "metadata": {},
   "outputs": [
    {
     "data": {
      "text/plain": [
       "<Figure size 1500x700 with 0 Axes>"
      ]
     },
     "execution_count": 46,
     "metadata": {},
     "output_type": "execute_result"
    },
    {
     "data": {
      "image/png": "[encoded data removed]",
      "text/plain": [
       "<Figure size 1200x500 with 1 Axes>"
      ]
     },
     "metadata": {},
     "output_type": "display_data"
    },
    {
     "data": {
      "text/plain": [
       "<Figure size 1500x700 with 0 Axes>"
      ]
     },
     "metadata": {},
     "output_type": "display_data"
    }
   ],
   "source": [
    "plt.xticks(rotation=60)\n",
    "sns.countplot(data=df, x=\"trips_in_first_30_days\", hue=\"churn\")\n",
    "plt.figure(figsize=(15,7))"
   ]
  },
  {
   "cell_type": "code",
   "execution_count": 55,
   "id": "29bb9b51",
   "metadata": {},
   "outputs": [
    {
     "data": {
      "text/plain": [
       "ShapiroResult(statistic=0.6397100687026978, pvalue=0.0)"
      ]
     },
     "execution_count": 55,
     "metadata": {},
     "output_type": "execute_result"
    }
   ],
   "source": [
    "shapiro(df[df.churn == \"not_churn\"].trips_in_first_30_days)"
   ]
  },
  {
   "cell_type": "code",
   "execution_count": 53,
   "id": "3e5648ff",
   "metadata": {},
   "outputs": [
    {
     "data": {
      "text/plain": [
       "ShapiroResult(statistic=0.5490787029266357, pvalue=0.0)"
      ]
     },
     "execution_count": 53,
     "metadata": {},
     "output_type": "execute_result"
    }
   ],
   "source": [
    "shapiro(df[df.churn == \"churn\"].trips_in_first_30_days)"
   ]
  },
  {
   "cell_type": "markdown",
   "id": "fa6078fb",
   "metadata": {},
   "source": [
    "Distributions are not normal. Let's use mann-whitneyu test"
   ]
  },
  {
   "cell_type": "code",
   "execution_count": 54,
   "id": "723b5214",
   "metadata": {},
   "outputs": [
    {
     "data": {
      "text/plain": [
       "MannwhitneyuResult(statistic=351842132.0, pvalue=0.0)"
      ]
     },
     "execution_count": 54,
     "metadata": {},
     "output_type": "execute_result"
    }
   ],
   "source": [
    "mannwhitneyu(df[df.churn == \"not_churn\"].trips_in_first_30_days, df[df.churn == \"churn\"].trips_in_first_30_days)"
   ]
  },
  {
   "cell_type": "markdown",
   "id": "f035ef6b",
   "metadata": {},
   "source": [
    "the difference is statistically significant"
   ]
  },
  {
   "cell_type": "code",
   "execution_count": 57,
   "id": "a8c15629",
   "metadata": {},
   "outputs": [
    {
     "data": {
      "text/plain": [
       "3.3063178047223993"
      ]
     },
     "execution_count": 57,
     "metadata": {},
     "output_type": "execute_result"
    }
   ],
   "source": [
    "df[df.churn == \"not_churn\"].trips_in_first_30_days.mean()"
   ]
  },
  {
   "cell_type": "code",
   "execution_count": 58,
   "id": "54a7417e",
   "metadata": {},
   "outputs": [
    {
     "data": {
      "text/plain": [
       "1.6584818566482882"
      ]
     },
     "execution_count": 58,
     "metadata": {},
     "output_type": "execute_result"
    }
   ],
   "source": [
    "df[df.churn == \"churn\"].trips_in_first_30_days.mean()"
   ]
  }
 ],
 "metadata": {
  "kernelspec": {
   "display_name": "Python 3 (ipykernel)",
   "language": "python",
   "name": "python3"
  },
  "language_info": {
   "codemirror_mode": {
    "name": "ipython",
    "version": 3
   },
   "file_extension": ".py",
   "mimetype": "text/x-python",
   "name": "python",
   "nbconvert_exporter": "python",
   "pygments_lexer": "ipython3",
   "version": "3.9.13"
  }
 },
 "nbformat": 4,
 "nbformat_minor": 5
}
