{
 "cells": [
  {
   "cell_type": "code",
   "execution_count": 1,
   "id": "c21358d6",
   "metadata": {},
   "outputs": [],
   "source": [
    "import requests\n",
    "import pandas as pd\n",
    "import seaborn as sns\n",
    "import matplotlib.pyplot as plt"
   ]
  },
  {
   "cell_type": "code",
   "execution_count": 54,
   "id": "724628cd",
   "metadata": {},
   "outputs": [],
   "source": [
    "# request for information about an object\n",
    "def find_info(ids_list, column_titles):\n",
    "\n",
    "    data = []\n",
    "\n",
    "    for i in ids_list:\n",
    "        r_test = requests.get(f'https://collectionapi.metmuseum.org/public/collection/v1/objects/{i}')\n",
    "        obj_test = r_test.json()\n",
    "        list_to_add = []\n",
    "        try:\n",
    "            for j in columns_names:\n",
    "                list_to_add.append(obj_test[j])\n",
    "            data.append(list_to_add)\n",
    "        except:\n",
    "            pass\n",
    "    df = pd.DataFrame(data,columns=columns_names)\n",
    "    return df\n",
    "    "
   ]
  },
  {
   "cell_type": "code",
   "execution_count": 15,
   "id": "d2ac9858",
   "metadata": {},
   "outputs": [
    {
     "name": "stdout",
     "output_type": "stream",
     "text": [
      "2032 437329 436524 "
     ]
    }
   ],
   "source": [
    "# Search for \"sunflowers\"\n",
    "# Select the id of the objects that are present in the resulting list: [2032, 20149, 437329, 16822570, 436524]\n",
    "r = requests.get('https://collectionapi.metmuseum.org/public/collection/v1/search?q=sunflowers')\n",
    "res = r.json()\n",
    "target_list = [2032, 20149, 437329, 16822570, 436524]\n",
    "for i in target_list:\n",
    "    if i in res['objectIDs']:\n",
    "        print(i, end=' ')\n"
   ]
  },
  {
   "cell_type": "code",
   "execution_count": 16,
   "id": "eddad7b1",
   "metadata": {},
   "outputs": [],
   "source": [
    "# Run a query for object 437980, get a description of the object\n",
    "r_test = requests.get(f'https://collectionapi.metmuseum.org/public/collection/v1/objects/437980')\n",
    "obj_test = r_test.json()"
   ]
  },
  {
   "cell_type": "code",
   "execution_count": 55,
   "id": "e636d38d",
   "metadata": {},
   "outputs": [],
   "source": [
    "# Collect information about objects. Write the results to a dataframe\n",
    "sunflowers_id = res['objectIDs']\n",
    "\n",
    "columns_names = ['objectID', 'title', 'artistDisplayName', 'department', \n",
    "                 'objectBeginDate', 'objectEndDate', 'period', 'objectName', 'culture']\n",
    "\n",
    "df = find_info(sunflowers_id, columns_names)"
   ]
  },
  {
   "cell_type": "code",
   "execution_count": 56,
   "id": "be18536f",
   "metadata": {},
   "outputs": [
    {
     "data": {
      "text/html": [
       "<div>\n",
       "<style scoped>\n",
       "    .dataframe tbody tr th:only-of-type {\n",
       "        vertical-align: middle;\n",
       "    }\n",
       "\n",
       "    .dataframe tbody tr th {\n",
       "        vertical-align: top;\n",
       "    }\n",
       "\n",
       "    .dataframe thead th {\n",
       "        text-align: right;\n",
       "    }\n",
       "</style>\n",
       "<table border=\"1\" class=\"dataframe\">\n",
       "  <thead>\n",
       "    <tr style=\"text-align: right;\">\n",
       "      <th></th>\n",
       "      <th>objectID</th>\n",
       "      <th>title</th>\n",
       "      <th>artistDisplayName</th>\n",
       "      <th>department</th>\n",
       "      <th>objectBeginDate</th>\n",
       "      <th>objectEndDate</th>\n",
       "      <th>period</th>\n",
       "      <th>objectName</th>\n",
       "      <th>culture</th>\n",
       "    </tr>\n",
       "  </thead>\n",
       "  <tbody>\n",
       "    <tr>\n",
       "      <th>29</th>\n",
       "      <td>57922</td>\n",
       "      <td>Incense box</td>\n",
       "      <td></td>\n",
       "      <td>Asian Art</td>\n",
       "      <td>1700</td>\n",
       "      <td>1799</td>\n",
       "      <td>Edo period (1615–1868)</td>\n",
       "      <td>Incense box</td>\n",
       "      <td>Japan</td>\n",
       "    </tr>\n",
       "  </tbody>\n",
       "</table>\n",
       "</div>"
      ],
      "text/plain": [
       "    objectID        title artistDisplayName department  objectBeginDate  \\\n",
       "29     57922  Incense box                    Asian Art             1700   \n",
       "\n",
       "    objectEndDate                  period   objectName culture  \n",
       "29           1799  Edo period (1615–1868)  Incense box   Japan  "
      ]
     },
     "execution_count": 56,
     "metadata": {},
     "output_type": "execute_result"
    }
   ],
   "source": [
    "# How many objects belong to Japanese culture?\n",
    "df[df.culture == 'Japan']"
   ]
  },
  {
   "cell_type": "code",
   "execution_count": 60,
   "id": "78d1e159",
   "metadata": {},
   "outputs": [
    {
     "data": {
      "text/html": [
       "<div>\n",
       "<style scoped>\n",
       "    .dataframe tbody tr th:only-of-type {\n",
       "        vertical-align: middle;\n",
       "    }\n",
       "\n",
       "    .dataframe tbody tr th {\n",
       "        vertical-align: top;\n",
       "    }\n",
       "\n",
       "    .dataframe thead th {\n",
       "        text-align: right;\n",
       "    }\n",
       "</style>\n",
       "<table border=\"1\" class=\"dataframe\">\n",
       "  <thead>\n",
       "    <tr style=\"text-align: right;\">\n",
       "      <th></th>\n",
       "      <th>objectID</th>\n",
       "      <th>title</th>\n",
       "      <th>artistDisplayName</th>\n",
       "      <th>department</th>\n",
       "      <th>objectBeginDate</th>\n",
       "      <th>objectEndDate</th>\n",
       "      <th>period</th>\n",
       "      <th>objectName</th>\n",
       "      <th>culture</th>\n",
       "    </tr>\n",
       "  </thead>\n",
       "  <tbody>\n",
       "    <tr>\n",
       "      <th>0</th>\n",
       "      <td>49698</td>\n",
       "      <td>Cat</td>\n",
       "      <td>Zhang Yuguang</td>\n",
       "      <td>Asian Art</td>\n",
       "      <td>1900</td>\n",
       "      <td>1968</td>\n",
       "      <td></td>\n",
       "      <td>Folding fan mounted as an album leaf</td>\n",
       "      <td>China</td>\n",
       "    </tr>\n",
       "    <tr>\n",
       "      <th>1</th>\n",
       "      <td>49470</td>\n",
       "      <td>Cat</td>\n",
       "      <td>Wang Li</td>\n",
       "      <td>Asian Art</td>\n",
       "      <td>1813</td>\n",
       "      <td>1879</td>\n",
       "      <td>Qing dynasty (1644–1911)</td>\n",
       "      <td>Hanging scroll</td>\n",
       "      <td>China</td>\n",
       "    </tr>\n",
       "    <tr>\n",
       "      <th>2</th>\n",
       "      <td>53222</td>\n",
       "      <td>Musk Cat</td>\n",
       "      <td>Uto Gyoshi</td>\n",
       "      <td>Asian Art</td>\n",
       "      <td>1550</td>\n",
       "      <td>1599</td>\n",
       "      <td>Muromachi period (1392–1573)</td>\n",
       "      <td>Hanging scroll</td>\n",
       "      <td>Japan</td>\n",
       "    </tr>\n",
       "    <tr>\n",
       "      <th>3</th>\n",
       "      <td>36221</td>\n",
       "      <td>Cat</td>\n",
       "      <td>Wang Yun</td>\n",
       "      <td>Asian Art</td>\n",
       "      <td>1900</td>\n",
       "      <td>1933</td>\n",
       "      <td></td>\n",
       "      <td>Hanging scroll</td>\n",
       "      <td>China</td>\n",
       "    </tr>\n",
       "    <tr>\n",
       "      <th>4</th>\n",
       "      <td>60873</td>\n",
       "      <td>Burial Crown</td>\n",
       "      <td></td>\n",
       "      <td>Asian Art</td>\n",
       "      <td>960</td>\n",
       "      <td>1279</td>\n",
       "      <td>Song dynasty (960–1279) or later</td>\n",
       "      <td>Burial crown</td>\n",
       "      <td>China</td>\n",
       "    </tr>\n",
       "  </tbody>\n",
       "</table>\n",
       "</div>"
      ],
      "text/plain": [
       "   objectID         title artistDisplayName department  objectBeginDate  \\\n",
       "0     49698           Cat     Zhang Yuguang  Asian Art             1900   \n",
       "1     49470           Cat           Wang Li  Asian Art             1813   \n",
       "2     53222      Musk Cat        Uto Gyoshi  Asian Art             1550   \n",
       "3     36221           Cat          Wang Yun  Asian Art             1900   \n",
       "4     60873  Burial Crown                    Asian Art              960   \n",
       "\n",
       "   objectEndDate                            period  \\\n",
       "0           1968                                     \n",
       "1           1879          Qing dynasty (1644–1911)   \n",
       "2           1599      Muromachi period (1392–1573)   \n",
       "3           1933                                     \n",
       "4           1279  Song dynasty (960–1279) or later   \n",
       "\n",
       "                             objectName culture  \n",
       "0  Folding fan mounted as an album leaf   China  \n",
       "1                        Hanging scroll   China  \n",
       "2                        Hanging scroll   Japan  \n",
       "3                        Hanging scroll   China  \n",
       "4                          Burial crown   China  "
      ]
     },
     "execution_count": 60,
     "metadata": {},
     "output_type": "execute_result"
    }
   ],
   "source": [
    "# Search for the department \"Asian art\" (departmentId = 6) with the tag \"cat\" and write the object ids to cat_ids\n",
    "# Get data about the first 1000 objects from the list\n",
    "r = requests.get('https://collectionapi.metmuseum.org/public/collection/v1/search?departmentId=6&q=cat')\n",
    "cats = r.json()\n",
    "\n",
    "cat_ids = cats['objectIDs']\n",
    "sub_cat_ids = cat_ids[:5]\n",
    "\n",
    "columns_names = ['objectID', 'title', 'artistDisplayName', 'department', \n",
    "                 'objectBeginDate', 'objectEndDate', 'period', 'objectName', 'culture']\n",
    "\n",
    "df_cats = find_info(cat_ids[:1000], columns_names)\n",
    "df_cats.head()"
   ]
  },
  {
   "cell_type": "code",
   "execution_count": 70,
   "id": "13357555",
   "metadata": {},
   "outputs": [
    {
     "data": {
      "text/html": [
       "<div>\n",
       "<style scoped>\n",
       "    .dataframe tbody tr th:only-of-type {\n",
       "        vertical-align: middle;\n",
       "    }\n",
       "\n",
       "    .dataframe tbody tr th {\n",
       "        vertical-align: top;\n",
       "    }\n",
       "\n",
       "    .dataframe thead th {\n",
       "        text-align: right;\n",
       "    }\n",
       "</style>\n",
       "<table border=\"1\" class=\"dataframe\">\n",
       "  <thead>\n",
       "    <tr style=\"text-align: right;\">\n",
       "      <th></th>\n",
       "      <th>period</th>\n",
       "      <th>objectName</th>\n",
       "    </tr>\n",
       "  </thead>\n",
       "  <tbody>\n",
       "    <tr>\n",
       "      <th>16</th>\n",
       "      <td>Edo period (1615–1868)</td>\n",
       "      <td>441</td>\n",
       "    </tr>\n",
       "  </tbody>\n",
       "</table>\n",
       "</div>"
      ],
      "text/plain": [
       "                    period  objectName\n",
       "16  Edo period (1615–1868)         441"
      ]
     },
     "execution_count": 70,
     "metadata": {},
     "output_type": "execute_result"
    }
   ],
   "source": [
    "# In what period was the largest number of works presented in the museum completed?\n",
    "df_cats.groupby('period', as_index=False).agg({'objectName': 'count'}).sort_values('objectName', ascending=False).head(1)"
   ]
  }
 ],
 "metadata": {
  "kernelspec": {
   "display_name": "Python 3 (ipykernel)",
   "language": "python",
   "name": "python3"
  },
  "language_info": {
   "codemirror_mode": {
    "name": "ipython",
    "version": 3
   },
   "file_extension": ".py",
   "mimetype": "text/x-python",
   "name": "python",
   "nbconvert_exporter": "python",
   "pygments_lexer": "ipython3",
   "version": "3.9.12"
  }
 },
 "nbformat": 4,
 "nbformat_minor": 5
}
