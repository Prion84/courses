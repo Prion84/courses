{
 "cells": [
  {
   "cell_type": "code",
   "execution_count": 4,
   "id": "249d198d",
   "metadata": {},
   "outputs": [],
   "source": [
    "import pandas as pd\n",
    "import os\n",
    "import seaborn as sns\n",
    "import matplotlib.pyplot as plt"
   ]
  },
  {
   "cell_type": "code",
   "execution_count": 7,
   "id": "507e18a6",
   "metadata": {},
   "outputs": [],
   "source": [
    "folders_list = os.listdir('data')"
   ]
  },
  {
   "cell_type": "code",
   "execution_count": 9,
   "id": "5149ceb8",
   "metadata": {},
   "outputs": [
    {
     "data": {
      "text/html": [
       "<div>\n",
       "<style scoped>\n",
       "    .dataframe tbody tr th:only-of-type {\n",
       "        vertical-align: middle;\n",
       "    }\n",
       "\n",
       "    .dataframe tbody tr th {\n",
       "        vertical-align: top;\n",
       "    }\n",
       "\n",
       "    .dataframe thead th {\n",
       "        text-align: right;\n",
       "    }\n",
       "</style>\n",
       "<table border=\"1\" class=\"dataframe\">\n",
       "  <thead>\n",
       "    <tr style=\"text-align: right;\">\n",
       "      <th></th>\n",
       "      <th>Unnamed: 0</th>\n",
       "      <th>product_id</th>\n",
       "      <th>quantity</th>\n",
       "      <th>name</th>\n",
       "      <th>date</th>\n",
       "    </tr>\n",
       "  </thead>\n",
       "  <tbody>\n",
       "    <tr>\n",
       "      <th>0</th>\n",
       "      <td>0</td>\n",
       "      <td>47</td>\n",
       "      <td>1</td>\n",
       "      <td>Alexey_Smirnov</td>\n",
       "      <td>2020-12-03</td>\n",
       "    </tr>\n",
       "    <tr>\n",
       "      <th>1</th>\n",
       "      <td>1</td>\n",
       "      <td>57</td>\n",
       "      <td>1</td>\n",
       "      <td>Alexey_Smirnov</td>\n",
       "      <td>2020-12-03</td>\n",
       "    </tr>\n",
       "    <tr>\n",
       "      <th>2</th>\n",
       "      <td>2</td>\n",
       "      <td>14</td>\n",
       "      <td>2</td>\n",
       "      <td>Alexey_Smirnov</td>\n",
       "      <td>2020-12-03</td>\n",
       "    </tr>\n",
       "    <tr>\n",
       "      <th>3</th>\n",
       "      <td>3</td>\n",
       "      <td>52</td>\n",
       "      <td>1</td>\n",
       "      <td>Alexey_Smirnov</td>\n",
       "      <td>2020-12-03</td>\n",
       "    </tr>\n",
       "    <tr>\n",
       "      <th>4</th>\n",
       "      <td>4</td>\n",
       "      <td>1</td>\n",
       "      <td>4</td>\n",
       "      <td>Alexey_Smirnov</td>\n",
       "      <td>2020-12-03</td>\n",
       "    </tr>\n",
       "    <tr>\n",
       "      <th>...</th>\n",
       "      <td>...</td>\n",
       "      <td>...</td>\n",
       "      <td>...</td>\n",
       "      <td>...</td>\n",
       "      <td>...</td>\n",
       "    </tr>\n",
       "    <tr>\n",
       "      <th>1</th>\n",
       "      <td>1</td>\n",
       "      <td>66</td>\n",
       "      <td>4</td>\n",
       "      <td>Rostislav_Petrov</td>\n",
       "      <td>2020-12-09</td>\n",
       "    </tr>\n",
       "    <tr>\n",
       "      <th>2</th>\n",
       "      <td>2</td>\n",
       "      <td>39</td>\n",
       "      <td>2</td>\n",
       "      <td>Rostislav_Petrov</td>\n",
       "      <td>2020-12-09</td>\n",
       "    </tr>\n",
       "    <tr>\n",
       "      <th>0</th>\n",
       "      <td>0</td>\n",
       "      <td>82</td>\n",
       "      <td>4</td>\n",
       "      <td>Vasiliy_Ivanov</td>\n",
       "      <td>2020-12-09</td>\n",
       "    </tr>\n",
       "    <tr>\n",
       "      <th>1</th>\n",
       "      <td>1</td>\n",
       "      <td>74</td>\n",
       "      <td>2</td>\n",
       "      <td>Vasiliy_Ivanov</td>\n",
       "      <td>2020-12-09</td>\n",
       "    </tr>\n",
       "    <tr>\n",
       "      <th>2</th>\n",
       "      <td>2</td>\n",
       "      <td>54</td>\n",
       "      <td>3</td>\n",
       "      <td>Vasiliy_Ivanov</td>\n",
       "      <td>2020-12-09</td>\n",
       "    </tr>\n",
       "  </tbody>\n",
       "</table>\n",
       "<p>161 rows × 5 columns</p>\n",
       "</div>"
      ],
      "text/plain": [
       "    Unnamed: 0  product_id  quantity              name        date\n",
       "0            0          47         1    Alexey_Smirnov  2020-12-03\n",
       "1            1          57         1    Alexey_Smirnov  2020-12-03\n",
       "2            2          14         2    Alexey_Smirnov  2020-12-03\n",
       "3            3          52         1    Alexey_Smirnov  2020-12-03\n",
       "4            4           1         4    Alexey_Smirnov  2020-12-03\n",
       "..         ...         ...       ...               ...         ...\n",
       "1            1          66         4  Rostislav_Petrov  2020-12-09\n",
       "2            2          39         2  Rostislav_Petrov  2020-12-09\n",
       "0            0          82         4    Vasiliy_Ivanov  2020-12-09\n",
       "1            1          74         2    Vasiliy_Ivanov  2020-12-09\n",
       "2            2          54         3    Vasiliy_Ivanov  2020-12-09\n",
       "\n",
       "[161 rows x 5 columns]"
      ]
     },
     "execution_count": 9,
     "metadata": {},
     "output_type": "execute_result"
    }
   ],
   "source": [
    "# create dataframe with infromation about users\n",
    "users_info = pd.DataFrame()\n",
    "for folder_title in folders_list:\n",
    "    users_list = os.listdir(f\"data\\{folder_title}\")\n",
    "    for user in users_list:\n",
    "        tmp = pd.read_csv(f\"data\\{folder_title}\\{user}\\data.csv\", sep=',')\n",
    "        tmp['name'] = user\n",
    "        tmp['date'] = folder_title\n",
    "        users_info = pd.concat([users_info, tmp])\n",
    "\n",
    "users_info"
   ]
  },
  {
   "cell_type": "code",
   "execution_count": 10,
   "id": "198a4a98",
   "metadata": {},
   "outputs": [
    {
     "name": "stdout",
     "output_type": "stream",
     "text": [
      "Alexey_Smirnov, Petr_Smirnov\n"
     ]
    }
   ],
   "source": [
    "# which user bought the most items?\n",
    "purchases_number= users_info.groupby('name', as_index=False).agg({'quantity': 'sum'})\n",
    "max_count = purchases_number.quantity.max()\n",
    "print(*list(purchases_number.query('quantity == @max_count').name), sep=', ')"
   ]
  },
  {
   "cell_type": "code",
   "execution_count": 11,
   "id": "d2c26c51",
   "metadata": {},
   "outputs": [
    {
     "data": {
      "text/plain": [
       "<AxesSubplot:xlabel='product_id', ylabel='quantity'>"
      ]
     },
     "execution_count": 11,
     "metadata": {},
     "output_type": "execute_result"
    },
    {
     "data": {
      "image/png": "[encoded data removed]",
      "text/plain": [
       "<Figure size 432x288 with 1 Axes>"
      ]
     },
     "metadata": {
      "needs_background": "light"
     },
     "output_type": "display_data"
    }
   ],
   "source": [
    "# Find the top 10 products by units sold all time and build a barplot\n",
    "top_10_products = \\\n",
    "        users_info.groupby('product_id', as_index=False) \\\n",
    "        .agg({'quantity': 'sum'}) \\\n",
    "        .sort_values('quantity', ascending=False) \\\n",
    "        .head(10)\n",
    "\n",
    "sns.barplot(x='product_id', y='quantity', data=top_10_products, color=\"salmon\", alpha=0.6)"
   ]
  },
  {
   "cell_type": "code",
   "execution_count": 12,
   "id": "7d13b401",
   "metadata": {},
   "outputs": [
    {
     "data": {
      "text/plain": [
       "<AxesSubplot:xlabel='date', ylabel='quantity'>"
      ]
     },
     "execution_count": 12,
     "metadata": {},
     "output_type": "execute_result"
    },
    {
     "data": {
      "image/png": "[encoded data removed]",
      "text/plain": [
       "<Figure size 720x360 with 1 Axes>"
      ]
     },
     "metadata": {
      "needs_background": "light"
     },
     "output_type": "display_data"
    }
   ],
   "source": [
    "# research purchases by days\n",
    "purchases_by_days = \\\n",
    "        users_info.groupby('date', as_index=False).agg({'quantity': 'sum'}) \\\n",
    "        .sort_values('quantity')\n",
    "plt.figure(figsize=(10,5))\n",
    "sns.barplot(x='date', y='quantity', data=purchases_by_days)\n"
   ]
  },
  {
   "cell_type": "code",
   "execution_count": 13,
   "id": "e946e3fc",
   "metadata": {},
   "outputs": [
    {
     "data": {
      "text/html": [
       "<div>\n",
       "<style scoped>\n",
       "    .dataframe tbody tr th:only-of-type {\n",
       "        vertical-align: middle;\n",
       "    }\n",
       "\n",
       "    .dataframe tbody tr th {\n",
       "        vertical-align: top;\n",
       "    }\n",
       "\n",
       "    .dataframe thead th {\n",
       "        text-align: right;\n",
       "    }\n",
       "</style>\n",
       "<table border=\"1\" class=\"dataframe\">\n",
       "  <thead>\n",
       "    <tr style=\"text-align: right;\">\n",
       "      <th></th>\n",
       "      <th>name</th>\n",
       "      <th>product_id</th>\n",
       "      <th>date</th>\n",
       "    </tr>\n",
       "  </thead>\n",
       "  <tbody>\n",
       "    <tr>\n",
       "      <th>37</th>\n",
       "      <td>Anton_Ivanov</td>\n",
       "      <td>15</td>\n",
       "      <td>2</td>\n",
       "    </tr>\n",
       "    <tr>\n",
       "      <th>92</th>\n",
       "      <td>Petr_Fedorov</td>\n",
       "      <td>94</td>\n",
       "      <td>2</td>\n",
       "    </tr>\n",
       "  </tbody>\n",
       "</table>\n",
       "</div>"
      ],
      "text/plain": [
       "            name  product_id  date\n",
       "37  Anton_Ivanov          15     2\n",
       "92  Petr_Fedorov          94     2"
      ]
     },
     "execution_count": 13,
     "metadata": {},
     "output_type": "execute_result"
    }
   ],
   "source": [
    "# How many users purchased any product repeatedly (more than 1 time in different days)?\n",
    "users_info.drop_duplicates(subset=['name', 'date', 'product_id']) \\\n",
    "        .groupby(['name', 'product_id'], as_index=False).agg({'date': 'count'}) \\\n",
    "        .query('date > 1')"
   ]
  }
 ],
 "metadata": {
  "kernelspec": {
   "display_name": "Python 3 (ipykernel)",
   "language": "python",
   "name": "python3"
  },
  "language_info": {
   "codemirror_mode": {
    "name": "ipython",
    "version": 3
   },
   "file_extension": ".py",
   "mimetype": "text/x-python",
   "name": "python",
   "nbconvert_exporter": "python",
   "pygments_lexer": "ipython3",
   "version": "3.9.12"
  }
 },
 "nbformat": 4,
 "nbformat_minor": 5
}
