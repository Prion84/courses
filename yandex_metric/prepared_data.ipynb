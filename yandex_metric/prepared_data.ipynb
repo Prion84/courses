{
 "cells": [
  {
   "cell_type": "code",
   "execution_count": 66,
   "id": "73938c80",
   "metadata": {},
   "outputs": [],
   "source": [
    "import pandas as pd\n",
    "import seaborn as sns\n",
    "import matplotlib as plt"
   ]
  },
  {
   "cell_type": "code",
   "execution_count": 67,
   "id": "fb5b59d8",
   "metadata": {},
   "outputs": [],
   "source": [
    "# from prepaered dataFrame1\n",
    "path_to_data_frame = 'step_1_lesson_7.csv'\n",
    "df = pd.read_csv(path_to_data_frame)"
   ]
  },
  {
   "cell_type": "code",
   "execution_count": 68,
   "id": "67de5904",
   "metadata": {},
   "outputs": [
    {
     "data": {
      "text/plain": [
       "<AxesSubplot:xlabel='date', ylabel='visits'>"
      ]
     },
     "execution_count": 68,
     "metadata": {},
     "output_type": "execute_result"
    },
    {
     "data": {
      "image/png": "[encoded data removed]",
      "text/plain": [
       "<Figure size 432x288 with 1 Axes>"
      ]
     },
     "metadata": {
      "needs_background": "light"
     },
     "output_type": "display_data"
    }
   ],
   "source": [
    "# Build a graph with the distribution of the number of visits from bots and regular users of the Yandex.Metrica website\n",
    "sns.barplot(x=\"date\", y=\"visits\", data=df, hue='user_type')"
   ]
  },
  {
   "cell_type": "code",
   "execution_count": 69,
   "id": "21d1f4a8",
   "metadata": {},
   "outputs": [],
   "source": [
    "# from prepared dataFrame2\n",
    "path_to_data_frame = 'step_2_lesson_7.csv'\n",
    "df = pd.read_csv(path_to_data_frame)"
   ]
  },
  {
   "cell_type": "code",
   "execution_count": 70,
   "id": "06a45c1d",
   "metadata": {},
   "outputs": [
    {
     "data": {
      "text/plain": [
       "60.0"
      ]
     },
     "execution_count": 70,
     "metadata": {},
     "output_type": "execute_result"
    }
   ],
   "source": [
    "# Determine the percentage of visits to the Yandex.Metrica website from the Google Chrome browser\n",
    "round((df.query('browser == \"Google Chrome\"').visits.sum() / df.visits.sum()) * 100, 0)"
   ]
  },
  {
   "cell_type": "code",
   "execution_count": 71,
   "id": "66ca3de9",
   "metadata": {},
   "outputs": [],
   "source": [
    "# from prepared dataFrame3\n",
    "path_to_data_frame = 'step_3_lesson_7.csv'\n",
    "df = pd.read_csv(path_to_data_frame)"
   ]
  },
  {
   "cell_type": "code",
   "execution_count": 52,
   "id": "c2195b0a",
   "metadata": {},
   "outputs": [
    {
     "data": {
      "text/plain": [
       "user_type\n",
       "browser              UCWEB\n",
       "People                 0.0\n",
       "Robots                 4.0\n",
       "Robots_proportion      1.0\n",
       "Name: 11, dtype: object"
      ]
     },
     "execution_count": 52,
     "metadata": {},
     "output_type": "execute_result"
    }
   ],
   "source": [
    "# determine which browser has the largest share of site visits by bots from the total number of visits in this browser?\n",
    "category_visits = df.groupby(['browser', 'user_type'], as_index=False) \\\n",
    "            .agg({'visits': 'sum'}) \\\n",
    "            .pivot(index='browser', columns='user_type', values='visits') \\\n",
    "            .reset_index()\n",
    "category_visits = category_visits.fillna(0)\n",
    "category_visits['Robots_proportion'] = category_visits.Robots / (category_visits.People + category_visits.Robots)\n",
    "category_visits.iloc[category_visits.Robots_proportion.idxmax()]"
   ]
  },
  {
   "cell_type": "code",
   "execution_count": 116,
   "id": "329a41f1",
   "metadata": {},
   "outputs": [],
   "source": [
    "# Create a column with a metric for the share of visits to the site for each of these cuts"
   ]
  },
  {
   "cell_type": "code",
   "execution_count": 117,
   "id": "fd63e891",
   "metadata": {},
   "outputs": [],
   "source": [
    "# from prepared dataFrame4\n",
    "path_to_data_frame = 'step_4_lesson_7.csv'\n",
    "df = pd.read_csv(path_to_data_frame)"
   ]
  },
  {
   "cell_type": "code",
   "execution_count": 118,
   "id": "1679af11",
   "metadata": {},
   "outputs": [],
   "source": [
    "prepared_df = df.groupby(['date', 'browser', 'user_type'], as_index=False).agg({'visits': 'sum'})\n",
    "total_number_in_date = int(prepared_df.groupby('date', as_index=False) \\\n",
    "                .agg({'visits': 'sum'}) \\\n",
    "                .loc[prepared_df.date == '2020-06-15'].visits)\n",
    "prepared_df['proportion'] = prepared_df['visits'].div(total_number_in_date)"
   ]
  },
  {
   "cell_type": "code",
   "execution_count": 119,
   "id": "1b9e24d6",
   "metadata": {},
   "outputs": [
    {
     "data": {
      "text/plain": [
       "15    3.2\n",
       "Name: proportion, dtype: float64"
      ]
     },
     "execution_count": 119,
     "metadata": {},
     "output_type": "execute_result"
    }
   ],
   "source": [
    "round(prepared_df.loc[(prepared_df.browser == 'Safari') & (prepared_df.user_type == 'People')].proportion * 100, 1)"
   ]
  },
  {
   "cell_type": "code",
   "execution_count": 137,
   "id": "732a791c",
   "metadata": {},
   "outputs": [],
   "source": [
    "from io import BytesIO\n",
    "import requests\n",
    "r = requests.get('https://docs.google.com/spreadsheets/d/e/2PACX-1vQWMsvBTVio9C7IOOxfFO9C15BRHyME-_ENHqBodDOjuiHwk9fCuF5hUVmDs497PZOqPYK3exdSikOK/pub?gid=1006633900&single=true&output=csv')\n",
    "data = r.content\n",
    "\n",
    "df = pd.read_csv(BytesIO(data))"
   ]
  },
  {
   "cell_type": "code",
   "execution_count": 138,
   "id": "26434505",
   "metadata": {},
   "outputs": [
    {
     "data": {
      "text/plain": [
       "1    1.0\n",
       "Name: visits_by_users, dtype: float64"
      ]
     },
     "execution_count": 138,
     "metadata": {},
     "output_type": "execute_result"
    }
   ],
   "source": [
    "# How many visits per unique user are made by bots from the Google Chrome browser\n",
    "merged_df = df.merge(prepared_df, on=['date', 'browser', 'user_type'], how='inner')\n",
    "merged_df['visits_by_users'] = merged_df.visits / merged_df.users\n",
    "merged_df.loc[(merged_df.browser == 'Google Chrome') & (merged_df.user_type == 'Robots')].visits_by_users"
   ]
  },
  {
   "cell_type": "code",
   "execution_count": null,
   "id": "52694cf6",
   "metadata": {},
   "outputs": [],
   "source": []
  },
  {
   "cell_type": "code",
   "execution_count": null,
   "id": "20bd8950",
   "metadata": {},
   "outputs": [],
   "source": []
  },
  {
   "cell_type": "code",
   "execution_count": null,
   "id": "85844f4d",
   "metadata": {},
   "outputs": [],
   "source": []
  },
  {
   "cell_type": "code",
   "execution_count": null,
   "id": "276ece6a",
   "metadata": {},
   "outputs": [],
   "source": []
  },
  {
   "cell_type": "code",
   "execution_count": null,
   "id": "68c436bb",
   "metadata": {},
   "outputs": [],
   "source": []
  },
  {
   "cell_type": "code",
   "execution_count": null,
   "id": "05789269",
   "metadata": {},
   "outputs": [],
   "source": []
  },
  {
   "cell_type": "code",
   "execution_count": null,
   "id": "4480b06e",
   "metadata": {},
   "outputs": [],
   "source": []
  }
 ],
 "metadata": {
  "kernelspec": {
   "display_name": "Python 3 (ipykernel)",
   "language": "python",
   "name": "python3"
  },
  "language_info": {
   "codemirror_mode": {
    "name": "ipython",
    "version": 3
   },
   "file_extension": ".py",
   "mimetype": "text/x-python",
   "name": "python",
   "nbconvert_exporter": "python",
   "pygments_lexer": "ipython3",
   "version": "3.9.12"
  }
 },
 "nbformat": 4,
 "nbformat_minor": 5
}
