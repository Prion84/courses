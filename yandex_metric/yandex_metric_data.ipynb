{
 "cells": [
  {
   "cell_type": "code",
   "execution_count": 1,
   "id": "b4e43bfd",
   "metadata": {},
   "outputs": [],
   "source": [
    "import pandas as pd\n",
    "import requests\n",
    "import json\n",
    "import seaborn as sns"
   ]
  },
  {
   "cell_type": "markdown",
   "id": "0e4dd53a",
   "metadata": {},
   "source": [
    "***\n",
    "*Build the distribution of the visits number from bots and regular users of the Yandex.Metrica*\n",
    "***"
   ]
  },
  {
   "cell_type": "code",
   "execution_count": 2,
   "id": "0a8e3a35",
   "metadata": {},
   "outputs": [],
   "source": [
    "# metrics is a field for calculation, dimensions is a field for grouping  \n",
    "url = 'https://api-metrika.yandex.net/stat/v1/data?'\n",
    "\n",
    "# take visits (metrics) for Robots/People (dimensions)\n",
    "visits = \"metrics=ym:s:visits&dimensions=ym:s:date&dimensions=ym:s:isRobot&id=44147844\"\n",
    "url = url + visits"
   ]
  },
  {
   "cell_type": "code",
   "execution_count": 3,
   "id": "79a352c9",
   "metadata": {},
   "outputs": [],
   "source": [
    "# request data by URL\n",
    "result = requests.get(url)\n",
    "\n",
    "# parse data to json\n",
    "json_data = json.loads(result.text)\n",
    "\n",
    "# build dataFrame\n",
    "df = pd.DataFrame([(\n",
    "                    i['dimensions'][0]['name'], i['dimensions'][1]['name'], i['metrics'][0]) \n",
    "                    for i in json_data['data']],\n",
    "                    columns=['date', 'user_type', 'visits'])"
   ]
  },
  {
   "cell_type": "code",
   "execution_count": null,
   "id": "e075c424",
   "metadata": {},
   "outputs": [],
   "source": [
    "df.head"
   ]
  },
  {
   "cell_type": "code",
   "execution_count": 5,
   "id": "dcec39e4",
   "metadata": {},
   "outputs": [
    {
     "data": {
      "image/png": "[encoded data removed]",
      "text/plain": [
       "<Figure size 432x288 with 1 Axes>"
      ]
     },
     "metadata": {
      "needs_background": "light"
     },
     "output_type": "display_data"
    }
   ],
   "source": [
    "ax =sns.barplot(x=\"date\", y=\"visits\", data=df, hue='user_type')\n",
    "ax.tick_params(axis='x', rotation=45)"
   ]
  },
  {
   "cell_type": "markdown",
   "id": "1ffb09a4",
   "metadata": {},
   "source": [
    "***\n",
    "*Determine the percentage of visits to the Yandex.Metrica from the Google Chrome browser*\n",
    "***"
   ]
  },
  {
   "cell_type": "code",
   "execution_count": 6,
   "id": "546eec24",
   "metadata": {},
   "outputs": [],
   "source": [
    "url = 'https://api-metrika.yandex.net/stat/v1/data?'\n",
    "visits = \"metrics=ym:s:visits&dimensions=ym:s:date&dimensions=ym:s:isRobot&dimensions=ym:s:browser&filters=ym:s:date=='2022-08-29'&id=44147844\"\n",
    "url = url + visits\n",
    "\n",
    "result = requests.get(url)\n",
    "json_data = json.loads(result.text)\n",
    "df = pd.DataFrame([(\n",
    "                    i['dimensions'][0]['name'], i['dimensions'][1]['name'], i['dimensions'][2]['name'], i['metrics'][0]) \n",
    "                    for i in json_data['data']],\n",
    "                    columns=['date', 'user_type', 'browser', 'visits'])"
   ]
  },
  {
   "cell_type": "code",
   "execution_count": 7,
   "id": "00d5bbae",
   "metadata": {},
   "outputs": [
    {
     "data": {
      "text/plain": [
       "50.0"
      ]
     },
     "execution_count": 7,
     "metadata": {},
     "output_type": "execute_result"
    }
   ],
   "source": [
    "round((df.query('browser == \"Google Chrome\"').visits.sum() / df.visits.sum()) * 100, 0)"
   ]
  },
  {
   "cell_type": "markdown",
   "id": "8fcb6d22",
   "metadata": {},
   "source": [
    "***\n",
    "*Determine which browser has the largest share of site visits by bots from the total number of visits in this browser?*\n",
    "***"
   ]
  },
  {
   "cell_type": "code",
   "execution_count": 8,
   "id": "a70f7429",
   "metadata": {},
   "outputs": [
    {
     "data": {
      "text/plain": [
       "user_type\n",
       "browser              MQQBrowser\n",
       "People                      0.0\n",
       "Robots                      1.0\n",
       "Robots_proportion           1.0\n",
       "Name: 10, dtype: object"
      ]
     },
     "execution_count": 8,
     "metadata": {},
     "output_type": "execute_result"
    }
   ],
   "source": [
    "category_visits = df.groupby(['browser', 'user_type'], as_index=False) \\\n",
    "            .agg({'visits': 'sum'}) \\\n",
    "            .pivot(index='browser', columns='user_type', values='visits') \\\n",
    "            .reset_index()\n",
    "category_visits = category_visits.fillna(0)\n",
    "category_visits['Robots_proportion'] = category_visits.Robots / (category_visits.People + category_visits.Robots)\n",
    "category_visits.iloc[category_visits.Robots_proportion.idxmax()]"
   ]
  },
  {
   "cell_type": "markdown",
   "id": "f2b4e0bc",
   "metadata": {},
   "source": [
    "***\n",
    "*Create a column with a metric for the share of visits to the site for each of these cuts*\n",
    "***"
   ]
  },
  {
   "cell_type": "code",
   "execution_count": 10,
   "id": "d3f5e8eb",
   "metadata": {},
   "outputs": [],
   "source": [
    "url = 'https://api-metrika.yandex.net/stat/v1/data?'\n",
    "visits = \"metrics=ym:s:visits&dimensions=ym:s:date&dimensions=ym:s:isRobot&dimensions=ym:s:browser&filters=ym:s:date=='2022-08-29'&id=44147844\"\n",
    "url = url + visits\n",
    "\n",
    "result = requests.get(url)\n",
    "json_data = json.loads(result.text)\n",
    "df = pd.DataFrame([(\n",
    "                    i['dimensions'][0]['name'], i['dimensions'][1]['name'], i['dimensions'][2]['name'], i['metrics'][0]) \n",
    "                    for i in json_data['data']],\n",
    "                    columns=['date', 'user_type', 'browser', 'visits'])"
   ]
  },
  {
   "cell_type": "code",
   "execution_count": 13,
   "id": "a8f87783",
   "metadata": {},
   "outputs": [],
   "source": [
    "prepared_df = df.groupby(['date', 'browser', 'user_type'], as_index=False).agg({'visits': 'sum'})\n",
    "total_number_in_date = int(prepared_df.groupby('date', as_index=False) \\\n",
    "                .agg({'visits': 'sum'}) \\\n",
    "                .loc[prepared_df.date == '2022-08-29'].visits)\n",
    "prepared_df['proportion'] = prepared_df['visits'].div(total_number_in_date)"
   ]
  },
  {
   "cell_type": "code",
   "execution_count": 14,
   "id": "226c8b5a",
   "metadata": {},
   "outputs": [
    {
     "data": {
      "text/plain": [
       "20    5.9\n",
       "Name: proportion, dtype: float64"
      ]
     },
     "execution_count": 14,
     "metadata": {},
     "output_type": "execute_result"
    }
   ],
   "source": [
    "round(prepared_df.loc[(prepared_df.browser == 'Safari') & (prepared_df.user_type == 'People')].proportion * 100, 1)"
   ]
  }
 ],
 "metadata": {
  "kernelspec": {
   "display_name": "Python 3 (ipykernel)",
   "language": "python",
   "name": "python3"
  },
  "language_info": {
   "codemirror_mode": {
    "name": "ipython",
    "version": 3
   },
   "file_extension": ".py",
   "mimetype": "text/x-python",
   "name": "python",
   "nbconvert_exporter": "python",
   "pygments_lexer": "ipython3",
   "version": "3.9.13"
  }
 },
 "nbformat": 4,
 "nbformat_minor": 5
}
